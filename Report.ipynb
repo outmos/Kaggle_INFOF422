{
 "cells": [
  {
   "cell_type": "markdown",
   "metadata": {},
   "source": [
    "# INFO-F-422 -  Statistical Foundations of Machine Learning \n",
    "\n",
    "### Ait Oujkal Abdelltif - __[abdellatif.ait.oujkal@ulb.ac.be](mailto:abdellatif.ait.oujkal@ulb.ac.be) - Student ID 430127__\n",
    "### Outmane Mouad - __[mouad.outmane@ulb.ac.be](mailto:mouad.outmane@ulb.ac.be) - Student ID 427221__\n",
    "\n",
    "## Kaggle competition : \"INFO-F-422 - Project - 2018-2019\"\n",
    "\n",
    "####  May 31, 2019"
   ]
  },
  {
   "cell_type": "markdown",
   "metadata": {},
   "source": [
    "# Introduction\n",
    "\n",
    "The goal of this project is to participate to the \"INFO-F-422 - Project - 2018-2019\" Kaggle competition and to build a predictive model using some training data that can be downloaded from the Kaggle platform. This training data is composed of 13083 labeled samples and 45 features. The model needs to be able to correctly classify a given testing data. All the provided data has already been normalized so we dont have to care about this step. In order to build the predictive model, we will implement and assess diﬀerent supervised learning algorithms and diﬀerent methods of feature selection and select the ones which appear to be the most accurate and use them for submitting to the Kaggle competition."
   ]
  },
  {
   "cell_type": "markdown",
   "metadata": {},
   "source": [
    "# Libraries"
   ]
  },
  {
   "cell_type": "markdown",
   "metadata": {},
   "source": [
    "This is the set of all the libraries that have been used throughout the project."
   ]
  },
  {
   "cell_type": "code",
   "execution_count": 2,
   "metadata": {},
   "outputs": [],
   "source": [
    "library(ggplot2)\n",
    "library(nnet)\n",
    "library(devtools)\n",
    "library(RSNNS)\n",
    "library(DescTools)\n",
    "library(rpart)\n",
    "library(e1071)\n",
    "library(randomForest)\n",
    "library(ridge)\n",
    "library(lazy)\n",
    "library(glmnet)"
   ]
  },
  {
   "cell_type": "markdown",
   "metadata": {},
   "source": [
    "### Dataset Analysis\n",
    "\n",
    "Before starting the implementation of feature selection methods, we import the training data (*\"train.csv\"*) from the *Kaggle* platform and visualize it to analyze it to determine its dimensions, properties and more."
   ]
  },
  {
   "cell_type": "code",
   "execution_count": 3,
   "metadata": {},
   "outputs": [
    {
     "name": "stdout",
     "output_type": "stream",
     "text": [
      "Data set dimensions : 13083  rows and  47  columns"
     ]
    },
    {
     "data": {
      "text/html": [
       "<table>\n",
       "<caption>A data.frame: 13083 × 47</caption>\n",
       "<thead>\n",
       "\t<tr><th scope=col>id</th><th scope=col>N1</th><th scope=col>N2</th><th scope=col>N3</th><th scope=col>N4</th><th scope=col>N5</th><th scope=col>...</th><th scope=col>N41</th><th scope=col>N42</th><th scope=col>N43</th><th scope=col>N44</th><th scope=col>N45</th><th scope=col>target</th></tr>\n",
       "\t<tr><th scope=col>&lt;int&gt;</th><th scope=col>&lt;dbl&gt;</th><th scope=col>&lt;dbl&gt;</th><th scope=col>&lt;dbl&gt;</th><th scope=col>&lt;dbl&gt;</th><th scope=col>&lt;dbl&gt;</th><th scope=col>...</th><th scope=col>&lt;dbl&gt;</th><th scope=col>&lt;dbl&gt;</th><th scope=col>&lt;dbl&gt;</th><th scope=col>&lt;dbl&gt;</th><th scope=col>&lt;dbl&gt;</th><th scope=col>&lt;int&gt;</th></tr>\n",
       "</thead>\n",
       "<tbody>\n",
       "\t<tr><td> 1</td><td> 0.7574377</td><td>-0.6952017</td><td> 0.032771459</td><td>0.0006750661</td><td> 0.038657370</td><td>...</td><td>-0.96987381</td><td> 0.6712369</td><td>-0.9754199</td><td>-1.8106960</td><td> 0.1389180</td><td>0</td></tr>\n",
       "\t<tr><td> 6</td><td>-0.1886196</td><td>-0.3746804</td><td> 0.003315487</td><td>0.0006750667</td><td> 0.002763647</td><td>...</td><td> 0.07864114</td><td> 1.1118177</td><td> 0.5381810</td><td>-1.0540006</td><td> 0.2572848</td><td>0</td></tr>\n",
       "\t<tr><td> 7</td><td>-1.1346770</td><td> 0.8776877</td><td>-0.036939470</td><td>0.0006750673</td><td>-0.042679738</td><td>...</td><td> 0.60289861</td><td>-0.8707956</td><td>-0.2690728</td><td> 0.8377381</td><td>-0.6896494</td><td>0</td></tr>\n",
       "\t<tr><td> 8</td><td> 0.7574377</td><td> 0.9392448</td><td>-0.032562221</td><td>0.0006750673</td><td>-0.035857340</td><td>...</td><td> 0.60289861</td><td> 2.2132695</td><td> 1.6145195</td><td> 0.8377381</td><td> 1.5198637</td><td>0</td></tr>\n",
       "\t<tr><td>10</td><td>-0.1886196</td><td>-0.6697298</td><td> 0.025036984</td><td>0.0006750662</td><td> 0.033057311</td><td>...</td><td> 0.07864114</td><td>-0.8707956</td><td>-0.2690728</td><td> 0.8377381</td><td>-0.6896494</td><td>0</td></tr>\n",
       "\t<tr><td>...</td><td>...</td><td>...</td><td>...</td><td>...</td><td>...</td><td></td><td>...</td><td>...</td><td>...</td><td>...</td><td>...</td><td>...</td></tr>\n",
       "\t<tr><td>39627</td><td> 0.7574377</td><td>-0.63152195</td><td> 0.005399814</td><td>0.0006750662</td><td> 0.018079436</td><td>...</td><td>-0.18348760</td><td>-0.8707956</td><td>-0.2690728</td><td> 0.8377381</td><td>-0.6896494</td><td>0</td></tr>\n",
       "\t<tr><td>39628</td><td> 1.7034950</td><td> 0.69513914</td><td>-0.019176244</td><td>0.0006750672</td><td> 0.006849716</td><td>...</td><td>-0.18348760</td><td> 0.9095511</td><td>-0.7656562</td><td>-1.4013926</td><td>-0.1071414</td><td>0</td></tr>\n",
       "\t<tr><td>39633</td><td> 2.1765237</td><td> 0.07107777</td><td>-0.011916505</td><td>0.0006750671</td><td>-0.008357064</td><td>...</td><td> 0.07864114</td><td> 0.6712369</td><td> 1.6145195</td><td>-1.8106960</td><td> 1.5198637</td><td>1</td></tr>\n",
       "\t<tr><td>39637</td><td>-1.1346770</td><td> 4.16568455</td><td>-0.056618602</td><td>0.0006750675</td><td>-0.068687455</td><td>...</td><td> 0.60289861</td><td>-0.8707956</td><td>-0.2690728</td><td> 0.8377381</td><td>-0.6896494</td><td>1</td></tr>\n",
       "\t<tr><td>39639</td><td> 0.2844090</td><td>-0.68671105</td><td> 0.029805773</td><td>0.0006750662</td><td> 0.041834566</td><td>...</td><td>-1.49413128</td><td>-0.8707956</td><td>-0.2690728</td><td> 0.8377381</td><td>-0.6896494</td><td>0</td></tr>\n",
       "</tbody>\n",
       "</table>\n"
      ],
      "text/latex": [
       "A data.frame: 13083 × 47\n",
       "\\begin{tabular}{r|lllllllllllllllllllllllllllllllllllllllllllllll}\n",
       " id & N1 & N2 & N3 & N4 & N5 & N6 & N7 & N8 & N9 & N10 & N11 & N12 & N13 & N14 & N15 & N16 & N17 & N18 & N19 & N20 & N21 & N22 & N23 & N24 & N25 & N26 & N27 & N28 & N29 & N30 & N31 & N32 & N33 & N34 & N35 & N36 & N37 & N38 & N39 & N40 & N41 & N42 & N43 & N44 & N45 & target\\\\\n",
       " <int> & <dbl> & <dbl> & <dbl> & <dbl> & <dbl> & <dbl> & <dbl> & <dbl> & <dbl> & <dbl> & <dbl> & <dbl> & <dbl> & <dbl> & <dbl> & <dbl> & <dbl> & <dbl> & <dbl> & <dbl> & <dbl> & <dbl> & <dbl> & <dbl> & <dbl> & <dbl> & <dbl> & <dbl> & <dbl> & <dbl> & <dbl> & <dbl> & <dbl> & <dbl> & <dbl> & <dbl> & <dbl> & <dbl> & <dbl> & <dbl> & <dbl> & <dbl> & <dbl> & <dbl> & <dbl> & <int>\\\\\n",
       "\\hline\n",
       "\t  1 &  0.7574377 & -0.6952017 &  0.032771459 & 0.0006750661 &  0.038657370 & -0.6074549 & -0.3355619 & -0.4265204 & -0.30426435 &  0.15647218 & -1.1648060 & -0.3749188 & -0.2991069 & -0.5031815 & -0.2347523 & -3.507303 & -1.919153 & -0.9821441 & -0.9275832 & -2.378984 & -0.1774565 & -0.23967325 & -0.24392287 & -0.3881132 &  1.2006179 &  1.07881315 & -0.62491330 & -0.6182679 & -0.6705322 &  0.67058479 & -0.2759425 &  0.34639887 & -0.269075112 &  0.4578215 & -0.3660720 &  0.23733404 & 0.06386407 & -0.2289379 & -0.7083605 & -0.26889113 & -0.96987381 &  0.6712369 & -0.9754199 & -1.8106960 &  0.1389180 & 0\\\\\n",
       "\t  6 & -0.1886196 & -0.3746804 &  0.003315487 & 0.0006750667 &  0.002763647 & -0.7839460 & -0.3355619 & -0.5468655 & -0.30426435 & -0.22356539 &  0.9303888 & -0.3749188 & -0.2991069 & -0.5031815 & -0.2347523 & -3.507303 & -1.919153 & -0.9821441 & -0.9275832 & -2.378984 &  0.2280419 & -0.04458496 &  0.08666613 & -0.3881132 & -0.6173741 &  0.75310097 & -0.68790710 & -0.6827631 &  1.3574503 & -0.05109114 & -0.4964897 & -0.56774901 &  0.961868062 & -0.8324681 &  1.2055706 & -0.03075263 & 0.57376621 & -0.6325124 &  0.5051773 &  0.42007626 &  0.07864114 &  1.1118177 &  0.5381810 & -1.0540006 &  0.2572848 & 0\\\\\n",
       "\t  7 & -1.1346770 &  0.8776877 & -0.036939470 & 0.0006750673 & -0.042679738 &  0.8927193 &  4.3335279 &  1.8600374 & -0.30426435 &  0.12544606 &  1.4541875 & -0.3749188 & -0.2991069 & -0.5031815 & -0.2347523 & -3.507303 & -1.919153 & -0.9821441 & -0.9275832 & -2.378984 & -0.1749741 &  0.13821892 & -0.13425695 & -0.3881132 & -0.6256015 & -0.12084433 & -0.69572899 & -0.6902462 &  2.0441828 &  0.60942126 &  1.5371138 &  2.32854995 &  0.005037697 &  0.7665716 & -0.7421463 &  0.46118820 & 0.06386407 &  0.9817856 &  0.2743768 &  0.07559256 &  0.60289861 & -0.8707956 & -0.2690728 &  0.8377381 & -0.6896494 & 0\\\\\n",
       "\t  8 &  0.7574377 &  0.9392448 & -0.032562221 & 0.0006750673 & -0.035857340 &  0.8044737 &  4.3335279 &  1.8600374 & -0.30426435 &  0.08237326 &  0.9303888 & -0.3749188 & -0.2991069 & -0.5031815 & -0.2347523 & -3.507303 & -1.919153 & -0.9821441 & -0.9275832 & -2.378984 & -0.1749741 &  0.13821892 & -0.13425695 & -0.3881132 & -0.6174536 &  0.04313557 &  0.09610126 & -0.6827654 &  1.1319949 &  0.85790240 &  1.8498192 &  2.54169438 & -0.133479136 &  0.8663674 & -0.8637029 &  0.70684907 & 0.06386407 &  0.9817856 &  0.1311119 &  0.07559256 &  0.60289861 &  2.2132695 &  1.6145195 &  0.8377381 &  1.5198637 & 0\\\\\n",
       "\t 10 & -0.1886196 & -0.6697298 &  0.025036984 & 0.0006750662 &  0.033057311 & -0.6074549 & -0.5949557 & -0.4265204 & -0.06082831 &  0.64266485 & -1.1648060 & -0.3749188 & -0.2991069 & -0.5031815 & -0.2347523 & -3.507303 & -1.919153 & -0.9821441 & -0.9275832 & -2.378984 & -0.2025848 & -0.25176268 & -0.26440914 & -0.3881132 & -0.5498588 & -0.46086650 &  2.21047968 & -0.6225432 & -0.6709489 & -1.10966883 & -0.6959348 & -0.03808635 &  1.264423119 & -0.6290549 &  0.9578023 & -0.53004673 & 0.06386407 & -1.0360869 &  0.1677728 &  0.07559256 &  0.07864114 & -0.8707956 & -0.2690728 &  0.8377381 & -0.6896494 & 0\\\\\n",
       "\t ... & ... & ... & ... & ... & ... & ... & ... & ... & ... & ... & ... & ... & ... & ... & ... & ... & ... & ... & ... & ... & ... & ... & ... & ... & ... & ... & ... & ... & ... & ... & ... & ... & ... & ... & ... & ... & ... & ... & ... & ... & ... & ... & ... & ... & ... & ...\\\\\n",
       "\t 39627 &  0.7574377 & -0.63152195 &  0.005399814 & 0.0006750662 &  0.018079436 & -0.6074549 & -0.3355619 & -0.4265204 & -0.06082831 & -0.27828607 & -1.1648060 & -0.3892797 & -0.2428600 & -0.4345586 &  0.14292487 & 0.424126 & 2.30875554 &  0.9259061 & -0.3724980 & -0.1913425 & -0.04046652 & -0.01533634 &  0.001995034 & -0.3881132 & -0.5497825 & -0.4608469 & -0.6249006 & -0.6225447 &  2.0953400 & -0.0203785 &  1.5207934 &  0.03074302 & -0.7924045 &  0.7948375 & -0.7765756 &  0.3069014 & 0.57376621 &  0.9817856 &  0.89011677 &  1.2238715 & -0.18348760 & -0.8707956 & -0.2690728 &  0.8377381 & -0.6896494 & 0\\\\\n",
       "\t 39628 &  1.7034950 &  0.69513914 & -0.019176244 & 0.0006750672 &  0.006849716 &  0.1867549 & -0.5949557 & -0.4265204 & -0.30426435 &  0.10140620 & -0.6410073 & -0.3892797 & -0.2991069 & -0.5047924 & -0.23475231 & 0.424126 & 0.55181462 & -0.9821441 & -0.3724980 & -0.8646910 & -0.16463902 & -0.23350667 & -0.233473215 & -0.3881132 & -0.5751995 & -0.4911996 &  2.3049725 & -0.6451250 & -0.6940013 &  0.6676161 & -0.1224230 & -0.69798139 & -0.7945264 &  0.4839131 & -0.3978529 & -0.2827995 & 0.06386407 & -0.6325124 & -0.51262861 & -0.2688911 & -0.18348760 &  0.9095511 & -0.7656562 & -1.4013926 & -0.1071414 & 0\\\\\n",
       "\t 39633 &  2.1765237 &  0.07107777 & -0.011916505 & 0.0006750671 & -0.008357064 &  0.3632460 & -0.3355619 & -0.1858301 & -0.30426435 &  0.54112990 & -0.1172086 & -0.3892797 & -0.1832435 & -0.3600445 &  0.06187087 & 0.424126 & 0.05437832 &  0.3882426 & -0.1132246 & -0.3071840 & -0.13165808 & -0.21763929 & -0.206584980 & -0.3881132 & -0.5932898 & -0.5128767 &  2.0435558 & -0.6612611 & -0.3895559 & -0.1245825 &  0.7155362 & -0.78966287 & -0.7380480 &  0.3567167 & -0.2429209 &  0.5118354 & 0.06386407 &  0.1746366 &  1.13151947 &  1.3674064 &  0.07864114 &  0.6712369 &  1.6145195 & -1.8106960 &  1.5198637 & 1\\\\\n",
       "\t 39637 & -1.1346770 &  4.16568455 & -0.056618602 & 0.0006750675 & -0.068687455 &  1.0692103 & -0.5949557 &  0.6565859 & -0.30426435 &  0.02523705 &  1.4541875 & -0.3892797 & -0.1316622 & -0.2578465 &  0.29985923 & 0.424126 & 0.11737822 &  1.6471815 &  0.2006069 &  0.9203764 &  0.04565883 & -0.13233082 & -0.062024575 & -0.3881132 & -0.0724329 & -0.5518383 & -0.6958121 &  0.4418075 &  0.7131069 &  0.3442200 & -0.4085703 & -0.74136328 &  0.4166901 & -0.6509609 &  0.9844851 & -0.0186920 & 0.06386407 &  0.9817856 &  0.21853540 & -0.2688911 &  0.60289861 & -0.8707956 & -0.2690728 &  0.8377381 & -0.6896494 & 1\\\\\n",
       "\t 39639 &  0.2844090 & -0.68671105 &  0.029805773 & 0.0006750662 &  0.041834566 & -0.5192094 & -0.0761680 & -0.4265204 & -0.30426435 &  0.44472409 & -0.6410073 & -0.3892797 & -0.1801331 & -0.3565926 & -0.23475231 & 0.424126 & 1.66393528 & -0.9821441 & -0.2223163 & -0.3566706 & -0.10126089 & -0.11283174 & -0.114341674 & -0.3881132 &  1.3945791 & -0.4911925 & -0.6485092 & -0.6451238 &  0.3963335 &  0.9313189 &  1.5430441 & -0.47248036 & -1.1200635 &  1.0138978 & -1.0434030 &  2.1010125 & 1.66641366 &  0.1746366 &  0.07456713 &  0.9368018 & -1.49413128 & -0.8707956 & -0.2690728 &  0.8377381 & -0.6896494 & 0\\\\\n",
       "\\end{tabular}\n"
      ],
      "text/markdown": [
       "\n",
       "A data.frame: 13083 × 47\n",
       "\n",
       "| id &lt;int&gt; | N1 &lt;dbl&gt; | N2 &lt;dbl&gt; | N3 &lt;dbl&gt; | N4 &lt;dbl&gt; | N5 &lt;dbl&gt; | ... ... | N41 &lt;dbl&gt; | N42 &lt;dbl&gt; | N43 &lt;dbl&gt; | N44 &lt;dbl&gt; | N45 &lt;dbl&gt; | target &lt;int&gt; |\n",
       "|---|---|---|---|---|---|---|---|---|---|---|---|---|\n",
       "|  1 |  0.7574377 | -0.6952017 |  0.032771459 | 0.0006750661 |  0.038657370 | ... | -0.96987381 |  0.6712369 | -0.9754199 | -1.8106960 |  0.1389180 | 0 |\n",
       "|  6 | -0.1886196 | -0.3746804 |  0.003315487 | 0.0006750667 |  0.002763647 | ... |  0.07864114 |  1.1118177 |  0.5381810 | -1.0540006 |  0.2572848 | 0 |\n",
       "|  7 | -1.1346770 |  0.8776877 | -0.036939470 | 0.0006750673 | -0.042679738 | ... |  0.60289861 | -0.8707956 | -0.2690728 |  0.8377381 | -0.6896494 | 0 |\n",
       "|  8 |  0.7574377 |  0.9392448 | -0.032562221 | 0.0006750673 | -0.035857340 | ... |  0.60289861 |  2.2132695 |  1.6145195 |  0.8377381 |  1.5198637 | 0 |\n",
       "| 10 | -0.1886196 | -0.6697298 |  0.025036984 | 0.0006750662 |  0.033057311 | ... |  0.07864114 | -0.8707956 | -0.2690728 |  0.8377381 | -0.6896494 | 0 |\n",
       "| ... | ... | ... | ... | ... | ... | <!----> | ... | ... | ... | ... | ... | ... |\n",
       "| 39627 |  0.7574377 | -0.63152195 |  0.005399814 | 0.0006750662 |  0.018079436 | ... | -0.18348760 | -0.8707956 | -0.2690728 |  0.8377381 | -0.6896494 | 0 |\n",
       "| 39628 |  1.7034950 |  0.69513914 | -0.019176244 | 0.0006750672 |  0.006849716 | ... | -0.18348760 |  0.9095511 | -0.7656562 | -1.4013926 | -0.1071414 | 0 |\n",
       "| 39633 |  2.1765237 |  0.07107777 | -0.011916505 | 0.0006750671 | -0.008357064 | ... |  0.07864114 |  0.6712369 |  1.6145195 | -1.8106960 |  1.5198637 | 1 |\n",
       "| 39637 | -1.1346770 |  4.16568455 | -0.056618602 | 0.0006750675 | -0.068687455 | ... |  0.60289861 | -0.8707956 | -0.2690728 |  0.8377381 | -0.6896494 | 1 |\n",
       "| 39639 |  0.2844090 | -0.68671105 |  0.029805773 | 0.0006750662 |  0.041834566 | ... | -1.49413128 | -0.8707956 | -0.2690728 |  0.8377381 | -0.6896494 | 0 |\n",
       "\n"
      ],
      "text/plain": [
       "      id    N1         N2          N3           N4           N5           ...\n",
       "1      1     0.7574377 -0.6952017   0.032771459 0.0006750661  0.038657370 ...\n",
       "2      6    -0.1886196 -0.3746804   0.003315487 0.0006750667  0.002763647 ...\n",
       "3      7    -1.1346770  0.8776877  -0.036939470 0.0006750673 -0.042679738 ...\n",
       "4      8     0.7574377  0.9392448  -0.032562221 0.0006750673 -0.035857340 ...\n",
       "5     10    -0.1886196 -0.6697298   0.025036984 0.0006750662  0.033057311 ...\n",
       "...   ...   ...        ...         ...          ...          ...             \n",
       "13079 39627  0.7574377 -0.63152195  0.005399814 0.0006750662  0.018079436 ...\n",
       "13080 39628  1.7034950  0.69513914 -0.019176244 0.0006750672  0.006849716 ...\n",
       "13081 39633  2.1765237  0.07107777 -0.011916505 0.0006750671 -0.008357064 ...\n",
       "13082 39637 -1.1346770  4.16568455 -0.056618602 0.0006750675 -0.068687455 ...\n",
       "13083 39639  0.2844090 -0.68671105  0.029805773 0.0006750662  0.041834566 ...\n",
       "      N41         N42        N43        N44        N45        target\n",
       "1     -0.96987381  0.6712369 -0.9754199 -1.8106960  0.1389180 0     \n",
       "2      0.07864114  1.1118177  0.5381810 -1.0540006  0.2572848 0     \n",
       "3      0.60289861 -0.8707956 -0.2690728  0.8377381 -0.6896494 0     \n",
       "4      0.60289861  2.2132695  1.6145195  0.8377381  1.5198637 0     \n",
       "5      0.07864114 -0.8707956 -0.2690728  0.8377381 -0.6896494 0     \n",
       "...   ...         ...        ...        ...        ...        ...   \n",
       "13079 -0.18348760 -0.8707956 -0.2690728  0.8377381 -0.6896494 0     \n",
       "13080 -0.18348760  0.9095511 -0.7656562 -1.4013926 -0.1071414 0     \n",
       "13081  0.07864114  0.6712369  1.6145195 -1.8106960  1.5198637 1     \n",
       "13082  0.60289861 -0.8707956 -0.2690728  0.8377381 -0.6896494 1     \n",
       "13083 -1.49413128 -0.8707956 -0.2690728  0.8377381 -0.6896494 0     "
      ]
     },
     "metadata": {},
     "output_type": "display_data"
    }
   ],
   "source": [
    "data <- read.csv(\"train.csv\")\n",
    "\n",
    "cat(\"Data set dimensions :\", dim(data)[1], \" rows and \", dim(data)[2], \" columns\")\n",
    "\n",
    "options(warn=-1)\n",
    "backup_options <- options()\n",
    "\n",
    "options(repr.matrix.max.cols=12,repr.matrix.max.rows=10)\n",
    "data\n",
    "options(backup_options)"
   ]
  },
  {
   "cell_type": "markdown",
   "metadata": {},
   "source": [
    "We can see that the training data is composed of 13083 rows representing the labelled samples and 47 colmuns where the first column is non-predictive and represents the id of the sample (*id*), the following 45 are predictive and represent the features (*N_XX* for *XX* from 1 to 45) and the last column is the target and represents the variable to be predicted (*target*). We can see that the target can take two possible values (0 or 1) and therefore we can state that we are confronted with a binary classification problem. In addition, we can observe that all values have been normalized since all features are on the same scale (*double*), so we can skip the normalization step. To summarize, we have **13083** *samples* and **45** *features* among which only the most relevant ones must be kept. Also, we can see that there is no missing values so we dont have to care about them. We will now declare the number of samples and features, remove the *id* column since it is non-predictive and split the independent variables from the dependent variable (*target*)."
   ]
  },
  {
   "cell_type": "code",
   "execution_count": 4,
   "metadata": {
    "scrolled": false
   },
   "outputs": [],
   "source": [
    "n.samples <- nrow(data)\n",
    "n.features <- ncol(data) - 2\n",
    "\n",
    "X.data <- data[, setdiff(colnames(data), c(\"id\",\"target\"))]\n",
    "Y.data <- data[, \"target\"]"
   ]
  },
  {
   "cell_type": "markdown",
   "metadata": {},
   "source": [
    "We will now plot the histogram of the target variable so that we can see its distribution."
   ]
  },
  {
   "cell_type": "code",
   "execution_count": 5,
   "metadata": {},
   "outputs": [
    {
     "data": {
      "image/png": "[encoded data removed]",
      "text/plain": [
       "plot without title"
      ]
     },
     "metadata": {},
     "output_type": "display_data"
    }
   ],
   "source": [
    "options(repr.plot.width=4, repr.plot.height=4)\n",
    "\n",
    "df <- as.data.frame(table(Y.data))\n",
    "df <- setNames(df, c(\"Target\",\"Count\"))\n",
    "ggplot(df, aes(Target, Count)) + geom_col(fill=\"lightblue\") + ggtitle(\"Histogram of target\") + theme(plot.title = element_text(hjust = 0.5))\n",
    "options(backup_options)"
   ]
  },
  {
   "cell_type": "markdown",
   "metadata": {},
   "source": [
    "We can see that we are confronted with a balanced classification problem. In this situation, the predictive model will be less likely to be biased and inaccurate.\n",
    "\n",
    "In the next section, we will briefly introduce feature selection and talk about its importance and then we will implement some feature selection methods of the three main approaches :  **Filter**, **Wrapper** and **Embedded**."
   ]
  },
  {
   "cell_type": "markdown",
   "metadata": {},
   "source": [
    "## Feature Selection\n",
    "\n",
    "Feature selection seeks to keep only the most relevant features by removing irrelevant features since they can negatively impact model performance. By doing so, we can improve the machine learning model performance such as training time and prediction performance. \n",
    "\n",
    "In our case, we have only 45 features but, in general, the dimensions of features are thousands, even millions. \n",
    "\n",
    "In this project, we chose to implement and asses a few methods of each approach : Correlation, mRMR, Forward Selection, PCA and Lasso. We assessed each feature selection method on a linear model using 10-fold Cross Validation in order to have a good estimate of the performance. Unfortunately, we wanted to compare the different feature selection methods with more type of models but we did not have enough computational power, it takes a lot of hourse to be executed.\n",
    "\n",
    "We have defined a function that, given the actual target values and the predicted ones, evaluates the classfication by construction a confusion matrix and returns different metrics such as accuracy, F1 mesure, true postive rates and false positive rates. In addition, we have defined a function which given the results of the feature selection method plots the corresponding graph."
   ]
  },
  {
   "cell_type": "code",
   "execution_count": 6,
   "metadata": {},
   "outputs": [],
   "source": [
    "# takes as input the predicted valeus and the true ones, returns the accuracy, F1 score, true positive rate and false positive rate\n",
    "evaluate_classification <- function(predicted_values, true_values) {\n",
    "    \n",
    "    confusion_matrix <- table(true_values, predicted_values)\n",
    "    \n",
    "    precision <- confusion_matrix[4] / (confusion_matrix[4] + confusion_matrix[2])\n",
    "    recall <- confusion_matrix[4] / (confusion_matrix[4] + confusion_matrix[3])\n",
    "    \n",
    "    accuracy <- (confusion_matrix[1 ]+ confusion_matrix[4]) / sum(confusion_matrix)\n",
    "    F1 <- 2*((precision*recall)/(precision+recall))\n",
    "    TPR <- recall    # Something we want to maximize, How \"sensitive\" is the classifier to detecting positive instances\n",
    "    FPR <- confusion_matrix[2] / (confusion_matrix[2] + confusion_matrix[1])        # It decreases by reducing the number of false positive\n",
    "     \n",
    "    c(accuracy, F1, TPR, FPR)\n",
    "}\n",
    "\n",
    "# takes as input the feature selection method name, the results and the model name.\n",
    "display_feature_selection_results <- function(feature_selection_name, results, model_name) {\n",
    "    \n",
    "    plot(results[,\"nFeatures\"], results[,\"Accuracy\"], col=\"red\", type=\"l\", ylim=c(0.5,0.7),\n",
    "     main=paste(\"Accuracy vs Features number using \",feature_selection_name),\n",
    "     xlab=\"Number of selected features\", ylab=\"Accuracy\",axes = FALSE) + grid (45,20, lty = 2, col = \"cornsilk2\") \n",
    "    legend(\"topright\", legend=model_name,inset=c(0,0), col=\"red\", lty=1, cex=0.8, title=\"Models\")\n",
    "    axis(1, at=seq(from = 1, to = n.features, by = 4))\n",
    "    axis(2, at=seq(from = 0.5, to = 0.7, by = 0.05), las=1)\n",
    "    \n",
    "    plot(results[,\"nFeatures\"], results[,\"F1\"], col=\"red\", type=\"l\", ylim=c(0.5,0.7),\n",
    "     main=paste(\"F1 vs Features number using \",feature_selection_name),\n",
    "     xlab=\"Number of selected features\", ylab=\"F1\",axes = FALSE) + grid (45,20, lty = 2, col = \"cornsilk2\") \n",
    "    legend(\"topright\", legend=model_name,inset=c(0,0), col=\"red\", lty=1, cex=0.8, title=\"Models\")\n",
    "    axis(1, at=seq(from = 1, to = n.features, by = 4))\n",
    "    axis(2, at=seq(from = 0.5, to = 0.7, by = 0.05), las=1)\n",
    "}"
   ]
  },
  {
   "cell_type": "markdown",
   "metadata": {},
   "source": [
    "We define here the number of folds that we will be using during cross validation and create the different folds ."
   ]
  },
  {
   "cell_type": "code",
   "execution_count": 7,
   "metadata": {},
   "outputs": [],
   "source": [
    "K = 10          # number of folds\n",
    "folds <- cut(seq(1, n.samples), breaks=K, labels=FALSE)           # create K equally size folds"
   ]
  },
  {
   "cell_type": "markdown",
   "metadata": {},
   "source": [
    "Let's see now the estimated accuracy of the linear model using 10-fold cross validation and the whole set of features (45)."
   ]
  },
  {
   "cell_type": "code",
   "execution_count": 45,
   "metadata": {
    "scrolled": false
   },
   "outputs": [
    {
     "data": {
      "text/html": [
       "<table>\n",
       "<caption>A matrix: 4 × 1 of type dbl</caption>\n",
       "<tbody>\n",
       "\t<tr><th scope=row>Accuracy</th><td>0.6385</td></tr>\n",
       "\t<tr><th scope=row>F1</th><td>0.6309</td></tr>\n",
       "\t<tr><th scope=row>TPR</th><td>0.6444</td></tr>\n",
       "\t<tr><th scope=row>FPR</th><td>0.3648</td></tr>\n",
       "</tbody>\n",
       "</table>\n"
      ],
      "text/latex": [
       "A matrix: 4 × 1 of type dbl\n",
       "\\begin{tabular}{r|l}\n",
       "\tAccuracy & 0.6385\\\\\n",
       "\tF1 & 0.6309\\\\\n",
       "\tTPR & 0.6444\\\\\n",
       "\tFPR & 0.3648\\\\\n",
       "\\end{tabular}\n"
      ],
      "text/markdown": [
       "\n",
       "A matrix: 4 × 1 of type dbl\n",
       "\n",
       "| Accuracy | 0.6385 |\n",
       "| F1 | 0.6309 |\n",
       "| TPR | 0.6444 |\n",
       "| FPR | 0.3648 |\n",
       "\n"
      ],
      "text/plain": [
       "         [,1]  \n",
       "Accuracy 0.6385\n",
       "F1       0.6309\n",
       "TPR      0.6444\n",
       "FPR      0.3648"
      ]
     },
     "metadata": {},
     "output_type": "display_data"
    }
   ],
   "source": [
    "general_results <- t(data.frame(Accuracy=0, F1=0,TPR=0, FPR=0))\n",
    "\n",
    "# perform K fold cross validation\n",
    "for(i in 1:K) {\n",
    "    \n",
    "    test_indexes <- which(folds==i,arr.ind=TRUE)\n",
    "    \n",
    "    X_test <- X.data[test_indexes,]\n",
    "    Y_test <- Y.data[test_indexes]\n",
    "    X_training <- X.data[-test_indexes,]\n",
    "    Y_training <- Y.data[-test_indexes]\n",
    "    \n",
    "    # linear regression\n",
    "    model <- lm(target~., cbind(X_training,target=Y_training))\n",
    "    Y_hat <- predict(model,X_test)\n",
    "\n",
    "    # apply threshold >= 0.5 \n",
    "    Y_hat <- ifelse(Y_hat >=0.5,1,0)\n",
    "\n",
    "    general_results <- general_results + evaluate_classification(Y_hat,Y_test)  \n",
    "}\n",
    "\n",
    "# average over the k iterations\n",
    "general_results <- round(general_results/K,digits=4)\n",
    "general_results"
   ]
  },
  {
   "cell_type": "markdown",
   "metadata": {},
   "source": [
    "We can see that using the whole set of features we expect to have on average 63.8% of accuracy. Also, we can notice that the true positive rate is 64,4%, therefore, this model does quite well in identifying actual positives (target=1)."
   ]
  },
  {
   "cell_type": "markdown",
   "metadata": {},
   "source": [
    "### Correlation\n",
    "\n",
    "\n",
    "We will now implement a feature selection based on correlation. The idea is that we compute the correlation between the target and each feature. Having a high correlation with the target variable means that they are really related. Therefore, we rank these features in descending order so that the first features are the most correlated. However, we do not know how many features should we selected in order to reduce the number of features while maintaining good accuracy. We will then find the optimal number of features to select by assesing the model with the most correlated variable, the with the two first most correlated variables and so on. We will use 10-fold cross validation in order to have a good estimate of the accuracy."
   ]
  },
  {
   "cell_type": "code",
   "execution_count": 46,
   "metadata": {
    "scrolled": true
   },
   "outputs": [
    {
     "name": "stdout",
     "output_type": "stream",
     "text": [
      "\n",
      "Features ranking using correlation:  \"20\", \"27\", \"24\", \"6\", \"11\", \"29\", \"18\", \"26\", \"35\", \"31\", \"25\", \"19\", \"8\", \"28\", \"30\", \"32\", \"43\", \"45\", \"23\", \"22\", \"42\", \"12\", \"38\", \"2\", \"21\", \"14\", \"34\", \"33\", \"10\", \"37\", \"16\", \"36\", \"7\", \"1\", \"13\", \"4\", \"3\", \"44\", \"5\", \"17\", \"39\", \"9\", \"40\", \"41\", \"15\""
     ]
    }
   ],
   "source": [
    "# compute the correlation with target for each feature\n",
    "correlation_with_target <- abs(cor(X.data,Y.data))\n",
    "ranking <- sort(correlation_with_target,decreasing=T,index.return=T)$ix\n",
    "\n",
    "correlation_results <- data.frame(nFeatures=1:n.features, Accuracy =0,F1=0,TPR=0,FPR=0)\n",
    "\n",
    "for(i in 1:K){\n",
    "    test_indexes <- which(folds==i,arr.ind=TRUE)\n",
    "    \n",
    "    X_test <- X.data[test_indexes,]\n",
    "    Y_test <- Y.data[test_indexes]\n",
    "    X_training <- X.data[-test_indexes,]\n",
    "    Y_training <- Y.data[-test_indexes]\n",
    "    \n",
    "    for(j in 1:n.features){\n",
    "        \n",
    "        # train with the first j features of the ranking\n",
    "        model <- lm(target~., cbind(X_training[,ranking[1:j],drop=F],target=Y_training))\n",
    "        Y_hat <- predict(model,X_test[,ranking[1:j],drop=F])\n",
    "\n",
    "        Y_hat <- ifelse(Y_hat >=0.5,1,0)\n",
    "\n",
    "        correlation_results[j,-1] <- correlation_results[j,-1] + evaluate_classification(Y_hat, Y_test) \n",
    "    }\n",
    "}\n",
    "\n",
    "correlation_results[,-1] <- round(correlation_results[,-1]/K,digits=4)\n",
    "\n",
    "cat(\"\\nFeatures ranking using correlation: \" , paste(shQuote(ranking), collapse=\", \"))"
   ]
  },
  {
   "cell_type": "code",
   "execution_count": 47,
   "metadata": {
    "scrolled": false
   },
   "outputs": [
    {
     "data": {
      "image/png": "[encoded data removed]",
      "text/plain": [
       "Plot with title \"Accuracy vs Features number using  correlation\""
      ]
     },
     "metadata": {},
     "output_type": "display_data"
    },
    {
     "data": {
      "image/png": "[encoded data removed]",
      "text/plain": [
       "Plot with title \"F1 vs Features number using  correlation\""
      ]
     },
     "metadata": {},
     "output_type": "display_data"
    }
   ],
   "source": [
    "display_feature_selection_results(\"correlation\",correlation_results,\"Linear Model\")"
   ]
  },
  {
   "cell_type": "markdown",
   "metadata": {},
   "source": [
    "The graphs above show the performance of the model according to the number of selected features and two different metrics. We can observe that the accuracy and the F1 score is stable untill 22 features are selected. In fact, removing more features will lead to a big drop in accuracy, certainly, it will increase the training time, however, we will end up with a very bad perdictive model. That is why a good compromise between accuracy and execution time must be found. We can conclude that if we select the good features we can have the same results as using the whole set of 45 features but in a optimized way."
   ]
  },
  {
   "cell_type": "markdown",
   "metadata": {},
   "source": [
    "### mRMR\n",
    "\n",
    "We will now implement the mRMR feature selection which is is related to correlation. Indeed, the idea of this method is that we rank the variable by \n",
    "taking account not only the correlation with the output but also by avoiding redundant variables. Basically, it ranks the set of features by maximizing the multual information with the target variable and minimizing the average mutual information with all the variables already selected. The set of selected features is initialized with the most relevant feature compared to the target. Then, we add the feature having the highest relevancy with the target and the lowest redundancy with the previously selected features in the set. We repeat this step until all features are selected."
   ]
  },
  {
   "cell_type": "code",
   "execution_count": 48,
   "metadata": {
    "scrolled": true
   },
   "outputs": [
    {
     "name": "stdout",
     "output_type": "stream",
     "text": [
      "\n",
      "Features ranking using mRMR:  \"20\", \"27\", \"29\", \"25\", \"26\", \"28\", \"24\", \"12\", \"16\", \"6\", \"31\", \"35\", \"11\", \"40\", \"18\", \"2\", \"45\", \"23\", \"32\", \"37\", \"44\", \"1\", \"43\", \"33\", \"39\", \"30\", \"8\", \"14\", \"34\", \"42\", \"4\", \"21\", \"19\", \"15\", \"41\", \"22\", \"7\", \"3\", \"38\", \"17\", \"10\", \"9\", \"13\", \"5\", \"36\""
     ]
    }
   ],
   "source": [
    "mRMR_results <- data.frame(nFeatures=1:n.features,Accuracy=0,F1=0,TPR=0,FPR=0)\n",
    "\n",
    "for(i in 1:K){\n",
    "    test_indexes <- which(folds==i,arr.ind=TRUE)\n",
    "    \n",
    "    X_test <- X.data[test_indexes,]\n",
    "    Y_test <- Y.data[test_indexes]\n",
    "    X_training <- X.data[-test_indexes,]\n",
    "    Y_training <- Y.data[-test_indexes]\n",
    "    \n",
    "    mRMR_selected_features <- c()\n",
    "    remaining_features <- 1:n.features\n",
    "    \n",
    "    correlation <- abs(cor(X_training,Y_training))                 # compute correlation coefficient between variables x and y (target)\n",
    "    \n",
    "    # for each step of feature selection\n",
    "    for(j in 1:n.features){\n",
    "        redudancy_score <- rep(0, n.features)\n",
    "        \n",
    "        # execute this if it is not the first step of feature selection\n",
    "        if (length(mRMR_selected_features)>0) {\n",
    "            cor_sel_rem <- cor(X_training[,mRMR_selected_features,drop=F], X_training[,remaining_features,drop=F])\n",
    "            redudancy_score <- apply(cor_sel_rem,2,mean)\n",
    "        }\n",
    "        mRMR_score <- correlation[remaining_features]-redudancy_score\n",
    "        \n",
    "        selected_feature <- remaining_features[which.max(mRMR_score)]           # select feature having the maximum score\n",
    "        mRMR_selected_features <- c(mRMR_selected_features,selected_feature)              # add the selected feature to the set of selected features\n",
    "        remaining_features <- setdiff(remaining_features,selected_feature)      # remove the selected feature from the set of remaining features\n",
    "    \n",
    "        # build the model with the current set of selected features\n",
    "        training_data <- cbind(X_training[,mRMR_selected_features,drop=F],target=Y_training)\n",
    "        model <- lm(target~., training_data)\n",
    "\n",
    "        Y_hat <- predict(model,X_test[,mRMR_selected_features,drop=F])\n",
    "\n",
    "        Y_hat <- ifelse(Y_hat >=0.5,1,0)\n",
    "\n",
    "        mRMR_results[j,-1] <- mRMR_results[j,-1] + evaluate_classification(Y_hat, Y_test)\n",
    "    }\n",
    "}\n",
    "\n",
    "mRMR_results[,-1] <- round(mRMR_results[,-1]/K,digits=4)\n",
    "\n",
    "cat(\"\\nFeatures ranking using mRMR: \" , paste(shQuote(mRMR_selected_features), collapse=\", \"))"
   ]
  },
  {
   "cell_type": "code",
   "execution_count": 49,
   "metadata": {},
   "outputs": [
    {
     "data": {
      "image/png": "[encoded data removed]",
      "text/plain": [
       "Plot with title \"Accuracy vs Features number using  mRMR\""
      ]
     },
     "metadata": {},
     "output_type": "display_data"
    },
    {
     "data": {
      "image/png": "[encoded data removed]",
      "text/plain": [
       "Plot with title \"F1 vs Features number using  mRMR\""
      ]
     },
     "metadata": {},
     "output_type": "display_data"
    }
   ],
   "source": [
    "display_feature_selection_results(\"mRMR\",mRMR_results,\"Linear Model\")"
   ]
  },
  {
   "cell_type": "markdown",
   "metadata": {},
   "source": [
    "We can see that the ranking is quite similar to the correlation ranking. The two graphs shows that the best set of features is composed of the 25 first features since reducing even more features decreases the accuracy quite a bit."
   ]
  },
  {
   "cell_type": "markdown",
   "metadata": {},
   "source": [
    "### Forward Selection\n",
    "\n",
    "This method is quite different from the two previous one, indeed, it is a greedy search algorithm that attemps to find the optimal feature subset using the model as evaluation. Indeed, at the beginning we have no features then, iteratively, the feature which best improves the model is added. This method is time-consuming but tends to give good results."
   ]
  },
  {
   "cell_type": "code",
   "execution_count": 50,
   "metadata": {
    "scrolled": true
   },
   "outputs": [
    {
     "name": "stdout",
     "output_type": "stream",
     "text": [
      "\n",
      "Features ranking using Forward Selection:  \"20\", \"26\", \"24\", \"19\", \"17\", \"18\", \"25\", \"29\", \"12\", \"2\", \"37\", \"9\", \"16\", \"4\", \"3\", \"38\", \"30\", \"21\", \"22\", \"23\", \"44\", \"13\", \"34\", \"35\", \"45\", \"15\", \"36\", \"31\", \"10\", \"42\", \"43\", \"32\", \"40\", \"7\", \"39\", \"33\", \"41\", \"27\", \"28\", \"11\", \"14\", \"5\", \"1\", \"8\", \"6\""
     ]
    }
   ],
   "source": [
    "FS_results <- data.frame(nFeatures=1:n.features, Accuracy =0,F1=0,TPR=0,FPR=0)\n",
    "\n",
    "FS_selected_features <- c()\n",
    "remaining_features <- c(1:n.features)\n",
    "\n",
    "# for each step of feature selection\n",
    "for (round in 1:n.features) {\n",
    "    remaining_features <- setdiff(remaining_features,FS_selected_features)\n",
    "    results <- data.frame(Accuracy=rep(0, length(remaining_features)),F1=0,TPR=0,FPR=0)\n",
    "\n",
    "    for (i in 1:length(remaining_features)) {\n",
    "        subset <- c(FS_selected_features,remaining_features[i])\n",
    "\n",
    "        for(j in 1:K){\n",
    "            test_indexes <- which(folds==j,arr.ind=TRUE)\n",
    "\n",
    "            X_test <- X.data[test_indexes,subset,drop=F]\n",
    "            Y_test <- Y.data[test_indexes]\n",
    "            X_training <- X.data[-test_indexes,subset,drop=F]\n",
    "            Y_training <- Y.data[-test_indexes]\n",
    "\n",
    "            training_data <- cbind(X_training,target=Y_training)\n",
    "            model <- lm(target~., training_data)\n",
    "            Y_hat <- predict(model,X_test)\n",
    "            \n",
    "            Y_hat <- ifelse(Y_hat >=0.5,1,0)   \n",
    "            \n",
    "            results[i,] <- results[i,] + evaluate_classification(Y_hat, Y_test)\n",
    "        }\n",
    "    }\n",
    "    \n",
    "    results <- results/K\n",
    "    best_feature <- which.max(results[,\"Accuracy\"])\n",
    "    FS_results[round,-1] <- results[best_feature,]\n",
    "    \n",
    "    FS_selected_features<-c(FS_selected_features,remaining_features[best_feature])  \n",
    "}\n",
    "\n",
    "cat(\"\\nFeatures ranking using Forward Selection: \" , paste(shQuote(FS_selected_features), collapse=\", \"))"
   ]
  },
  {
   "cell_type": "code",
   "execution_count": 51,
   "metadata": {},
   "outputs": [
    {
     "data": {
      "image/png": "[encoded data removed]",
      "text/plain": [
       "Plot with title \"Accuracy vs Features number using  Forward Selection\""
      ]
     },
     "metadata": {},
     "output_type": "display_data"
    },
    {
     "data": {
      "image/png": "[encoded data removed]",
      "text/plain": [
       "Plot with title \"F1 vs Features number using  Forward Selection\""
      ]
     },
     "metadata": {},
     "output_type": "display_data"
    }
   ],
   "source": [
    "display_feature_selection_results(\"Forward Selection\",FS_results,\"Linear Model\")"
   ]
  },
  {
   "cell_type": "markdown",
   "metadata": {},
   "source": [
    "As the graphs above show, the forward selection works very well since the accuracy converges quite quickly when 19 features are selected. We can see that the F1 curve behaves in the same way but when more than 19 characteristics are selected, there is a little more variance than the accuracy curve."
   ]
  },
  {
   "cell_type": "markdown",
   "metadata": {},
   "source": [
    "### PCA\n",
    "\n",
    "PCA is more a feature extraction method than a feature selection method since it consist of transforming the original features into a set of new features that may be more relevant than the original feature. It attempts to ﬁnd a sequence of linear combinations of the features that have maximum variance and are not correlated with each other. These new variables are called Principal Components. We decided to implement this method since it is the most common in the machine learning field and we were curious to see its results. We will plot, according to the number of selcted components, the R2 which tells how much variance is explained."
   ]
  },
  {
   "cell_type": "code",
   "execution_count": 52,
   "metadata": {},
   "outputs": [
    {
     "data": {
      "text/html": [],
      "text/latex": [],
      "text/markdown": [],
      "text/plain": [
       "integer(0)"
      ]
     },
     "metadata": {},
     "output_type": "display_data"
    },
    {
     "data": {
      "image/png": "[encoded data removed]",
      "text/plain": [
       "Plot with title \"Cummulated R-Squared with respect to number of components\""
      ]
     },
     "metadata": {},
     "output_type": "display_data"
    }
   ],
   "source": [
    "# PCA\n",
    "pca <- prcomp(X.data,retx=T)\n",
    "\n",
    "sum = summary(pca)\n",
    "# plot cummulated R-Squared with respect to number of components\n",
    "plot(1:n.features,sum$importance[3, ], col=\"red\", type=\"l\", ylim=c(0:1),\n",
    "     main=\"Cummulated R-Squared with respect to number of components\",\n",
    "     xlab=\"Number of components\", ylab=\"R-Squared\",axes = FALSE) + grid (45,20, lty = 2, col = \"cornsilk2\")\n",
    "axis(1, at=seq(from = 1, to = n.features, by = 4))\n",
    "axis(2, at=seq(from = 0, to = 1, by = 0.1), las=1)"
   ]
  },
  {
   "cell_type": "markdown",
   "metadata": {},
   "source": [
    "This graph shows the R-squared values with respect to the number of principle components. It tells us how much of the variance of the original data set can be explained by the new transformed data set. We can see that we do not need the whole components in order to describe the whole variance of the original data set. 25 components are necessary to describe 95% of the original data set’s variance. We will now evaluate PCA."
   ]
  },
  {
   "cell_type": "code",
   "execution_count": 53,
   "metadata": {
    "scrolled": true
   },
   "outputs": [],
   "source": [
    "X.pca <- data.frame(pca$x)\n",
    "\n",
    "PCA_results <- data.frame(nFeatures=1:n.features,Accuracy=0,F1=0,TPR=0,FPR=0)\n",
    "\n",
    "for(i in 1:K) {\n",
    "    test_indexes <- which(folds==i,arr.ind=TRUE)\n",
    "    \n",
    "    X_test <- X.pca[test_indexes,]\n",
    "    Y_test <- Y.data[test_indexes]\n",
    "    X_training <- X.pca[-test_indexes,]\n",
    "    Y_training <- Y.data[-test_indexes]\n",
    "\n",
    "    # for each nb_features first features\n",
    "    for (nb_features in 1:n.features) {\n",
    "        model <- lm(target~., cbind(X_training[,1:nb_features,drop=F],target=Y_training))\n",
    "        Y_hat <- predict(model,X_test[,1:nb_features,drop=F])\n",
    "\n",
    "        Y_hat <- ifelse(Y_hat >=0.5,1,0)\n",
    "\n",
    "        PCA_results[nb_features,-1] <- PCA_results[nb_features,-1] + evaluate_classification(Y_hat, Y_test) \n",
    "    }\n",
    "}  \n",
    "\n",
    "PCA_results[,-1] <- round(PCA_results[,-1]/K,digits=4)"
   ]
  },
  {
   "cell_type": "code",
   "execution_count": 54,
   "metadata": {
    "scrolled": false
   },
   "outputs": [
    {
     "data": {
      "image/png": "[encoded data removed]",
      "text/plain": [
       "Plot with title \"Accuracy vs Features number using  PCA\""
      ]
     },
     "metadata": {},
     "output_type": "display_data"
    },
    {
     "data": {
      "image/png": "[encoded data removed]",
      "text/plain": [
       "Plot with title \"F1 vs Features number using  PCA\""
      ]
     },
     "metadata": {},
     "output_type": "display_data"
    }
   ],
   "source": [
    "display_feature_selection_results(\"PCA\",PCA_results,\"Linear Model\")"
   ]
  },
  {
   "cell_type": "markdown",
   "metadata": {},
   "source": [
    "The accuracy score increases significantly until the the 20th composant, from there the increase is less \"steep\" but still significant. After the 40th principal component the score does not change much and we reach the maximum accuracy score of 64%. The F1 score curve follows the same behaviour of the accuracy score curve, except that the incraese between the 19th and the 40th principal component is smaller. We can clearly see that the PCA method will not help us a lot at this stage, in fact, we need too much princinpal components (40 out of the 45) to get to a decent accuracy and F1 score."
   ]
  },
  {
   "cell_type": "markdown",
   "metadata": {},
   "source": [
    "### Lasso\n",
    "\n",
    "To decide which variable should be included in the final model we will make use of the powerful LASSO method for variable selection. We have not seen it during the exercice sessions but we have talked about it during lectures. "
   ]
  },
  {
   "cell_type": "code",
   "execution_count": 55,
   "metadata": {},
   "outputs": [],
   "source": [
    "# alpha = 1 -> LASSO, alpha=0 -> Ridge Regularization\n",
    "model <- cv.glmnet (as.matrix(X.data), Y.data, family=\"binomial\",alpha =1)"
   ]
  },
  {
   "cell_type": "code",
   "execution_count": 56,
   "metadata": {
    "scrolled": false
   },
   "outputs": [
    {
     "data": {
      "image/png": "[encoded data removed]",
      "text/plain": [
       "Plot with title \"Accuracy vs Features number using  Lasso\""
      ]
     },
     "metadata": {},
     "output_type": "display_data"
    },
    {
     "data": {
      "image/png": "[encoded data removed]",
      "text/plain": [
       "Plot with title \"F1 vs Features number using  Lasso\""
      ]
     },
     "metadata": {},
     "output_type": "display_data"
    }
   ],
   "source": [
    "# we find the min lambda, get coefficients and sort by decreasing order\n",
    "# coefficient equal to 0 means that the variable is not relevant\n",
    "lasso_ranking <- abs(as.matrix(coef(model, model$lambda.min)))\n",
    "lasso_ranking = lasso_ranking[-1,]\n",
    "lasso_ranking_score = as.data.frame(lasso_ranking)[,1]\n",
    "lasso_ranking = sort.list(lasso_ranking, decreasing = TRUE)\n",
    "\n",
    "lasso_results <- data.frame(nFeatures=1:n.features, Accuracy =0,F1=0,TPR=0,FPR=0)\n",
    "\n",
    "for(i in 1:K){\n",
    "    test_indexes <- which(folds==i,arr.ind=TRUE)\n",
    "    \n",
    "    X_test <- X.data[test_indexes,]\n",
    "    Y_test <- Y.data[test_indexes]\n",
    "    X_training <- X.data[-test_indexes,]\n",
    "    Y_training <- Y.data[-test_indexes]\n",
    "    \n",
    "    for(j in 1:n.features){\n",
    "        model <- lm(target~., cbind(X_training[,lasso_ranking[1:j],drop=F],target=Y_training))\n",
    "        Y_hat <- predict(model,X_test[,lasso_ranking[1:j],drop=F])\n",
    "        \n",
    "        Y_hat <- ifelse(Y_hat >=0.5,1,0)\n",
    "\n",
    "        lasso_results[j,-1] <- lasso_results[j,-1] + evaluate_classification(Y_hat, Y_test) \n",
    "    }\n",
    "}\n",
    "\n",
    "lasso_results[,-1] <- round(lasso_results[,-1]/K,digits=4)\n",
    "\n",
    "display_feature_selection_results(\"Lasso\",lasso_results,\"Linear Model\")"
   ]
  },
  {
   "cell_type": "markdown",
   "metadata": {},
   "source": [
    "We can see that the Lasso method performs well since from 25 selected features the accuracy do not vary a lot. We will now compare all the feature selection methods and select one among them."
   ]
  },
  {
   "cell_type": "code",
   "execution_count": 57,
   "metadata": {},
   "outputs": [
    {
     "data": {
      "text/html": [],
      "text/latex": [],
      "text/markdown": [],
      "text/plain": [
       "integer(0)"
      ]
     },
     "metadata": {},
     "output_type": "display_data"
    },
    {
     "data": {
      "image/png": "[encoded data removed]",
      "text/plain": [
       "Plot with title \"Accuracy according to features number\""
      ]
     },
     "metadata": {},
     "output_type": "display_data"
    }
   ],
   "source": [
    "methods = c(\"Correlation\",\"mRMR\",\"Forward Selection\",\"PCA\", \"Lasso\")\n",
    "colors = c(\"darkorchid\", \"blue\", \"red\", \"green\",\"black\")\n",
    "\n",
    "plot(1:n.features, correlation_results[,\"Accuracy\"], col=colors[1], type=\"l\", ylim=c(0.5,0.7),\n",
    " main=\"Accuracy according to features number\",\n",
    " xlab=\"Number of selected features\", ylab=\"Accuracy\",axes = FALSE) + grid (45,20, lty = 2, col = \"cornsilk2\") \n",
    "lines(1:n.features,mRMR_results[,\"Accuracy\"],col=colors[2]) \n",
    "lines(1:n.features,FS_results[,\"Accuracy\"],col=colors[3]) \n",
    "lines(1:n.features,PCA_results[,\"Accuracy\"],col=colors[4])\n",
    "lines(1:n.features,lasso_results[,\"Accuracy\"],col=colors[5]) \n",
    "legend(\"topright\", legend=methods,inset=c(0,0), col=colors, lty=1, cex=0.8, title=\"Feature selection methods\")\n",
    "axis(1, at=seq(from = 1, to = n.features, by = 4))\n",
    "axis(2, at=seq(from = 0.5, to = 0.7, by = 0.05), las=1)"
   ]
  },
  {
   "cell_type": "markdown",
   "metadata": {},
   "source": [
    "The diagram shows the test accuracy of the different feature selection methods with respect to the number of selected features. It's clear that the worst selection feature method is PCA, it takes 40 principal components to have a score comparable to the models using the other methods. mRMR and correlation are comparable except for the fact that correlation gives features that make the model converge faster. The best method is Forward selection, the only wrapper method we tested. It gives us the best accuracy score and it is the fastest at converging. Taking into consideration the results, we selected the best **25 features** according to the **Forward Selection** method. We have an accuracy score a bit better than the score given by the use of the 45 features, and this with way less features (20). Note that it is not the highest score, the highest score is achieved with 27 features, but the increase is so small that it is not worth to add 7 features."
   ]
  },
  {
   "cell_type": "markdown",
   "metadata": {},
   "source": [
    "## Model Selection\n",
    "\n",
    "Now that we have our set of relevant features, we can start to select our learning model. We will compare many of them and then select three or more models to combine them and hopefully find a strategy to improve our prediction accuracy. The models we chose are **SVM**, **Linear Regression**, **Neural Network**, **Random Forests**, **Decision Tree**,**Nearest Neighbour** and finally **Radial Basis Function Network**. The main metric of comparison will be accuracy and F1 score as we did to evaluate Feature Selection Methods. But this time we will also focus on another metric, the ROC curve and the AUC. Obviously like we did before, we will perform a 10-fold cross validation to have a good estimation of the performance and select the best model. We will also tune the hyperparameters of some models to get the optimal configuration of parameters that lead to better accuracy."
   ]
  },
  {
   "cell_type": "code",
   "execution_count": 58,
   "metadata": {},
   "outputs": [],
   "source": [
    "# We define the selected features\n",
    "features = FS_selected_features[1:25]"
   ]
  },
  {
   "cell_type": "markdown",
   "metadata": {},
   "source": [
    "### Linear Model\n",
    "\n",
    "The aim of linear regression is to find a linear relationship between the inputs values and the target classification. This can help us, afterwards, to estimate and classify other inputs."
   ]
  },
  {
   "cell_type": "code",
   "execution_count": 59,
   "metadata": {},
   "outputs": [],
   "source": [
    "lm_results <- data.frame(Time=0,Accuracy=0,F1=0,TPR=0,FPR=0)\n",
    "\n",
    "for(i in 1:K) {\n",
    "    test_indexes <- which(folds==i,arr.ind=TRUE)\n",
    "\n",
    "    X_test <- X.data[test_indexes,features,drop=F]\n",
    "    Y_test <- Y.data[test_indexes]\n",
    "    X_training <- X.data[-test_indexes,features,drop=F]\n",
    "    Y_training <- Y.data[-test_indexes]\n",
    "\n",
    "    start <- proc.time()[[\"elapsed\"]]\n",
    "    model <- lm(target~., cbind(X_training,target=Y_training))\n",
    "    Y_hat <- predict(model,X_test)\n",
    "    lm_results[1] <- lm_results[1] + proc.time()[[\"elapsed\"]] - start\n",
    "\n",
    "    Y_hat <- ifelse(Y_hat >=0.5,1,0)\n",
    "    \n",
    "    lm_results[-1] <- lm_results[-1] + evaluate_classification(Y_hat, Y_test) \n",
    "}  \n",
    "\n",
    "lm_results <- round(lm_results/K,digits=4)"
   ]
  },
  {
   "cell_type": "code",
   "execution_count": 60,
   "metadata": {},
   "outputs": [
    {
     "data": {
      "text/html": [
       "<table>\n",
       "<caption>A matrix: 5 × 1 of type dbl</caption>\n",
       "<tbody>\n",
       "\t<tr><th scope=row>Time</th><td>0.0140</td></tr>\n",
       "\t<tr><th scope=row>Accuracy</th><td>0.6430</td></tr>\n",
       "\t<tr><th scope=row>F1</th><td>0.6326</td></tr>\n",
       "\t<tr><th scope=row>TPR</th><td>0.6488</td></tr>\n",
       "\t<tr><th scope=row>FPR</th><td>0.3637</td></tr>\n",
       "</tbody>\n",
       "</table>\n"
      ],
      "text/latex": [
       "A matrix: 5 × 1 of type dbl\n",
       "\\begin{tabular}{r|l}\n",
       "\tTime & 0.0140\\\\\n",
       "\tAccuracy & 0.6430\\\\\n",
       "\tF1 & 0.6326\\\\\n",
       "\tTPR & 0.6488\\\\\n",
       "\tFPR & 0.3637\\\\\n",
       "\\end{tabular}\n"
      ],
      "text/markdown": [
       "\n",
       "A matrix: 5 × 1 of type dbl\n",
       "\n",
       "| Time | 0.0140 |\n",
       "| Accuracy | 0.6430 |\n",
       "| F1 | 0.6326 |\n",
       "| TPR | 0.6488 |\n",
       "| FPR | 0.3637 |\n",
       "\n"
      ],
      "text/plain": [
       "         [,1]  \n",
       "Time     0.0140\n",
       "Accuracy 0.6430\n",
       "F1       0.6326\n",
       "TPR      0.6488\n",
       "FPR      0.3637"
      ]
     },
     "metadata": {},
     "output_type": "display_data"
    }
   ],
   "source": [
    "t(lm_results)"
   ]
  },
  {
   "cell_type": "markdown",
   "metadata": {},
   "source": [
    "In linear regression we have no hyperparamter to tune. We just executed the 10-fold cross validation process with a simple linear model and the selected features. We can see that the training time is really fast and that the accuracy is quite good too 64,8%."
   ]
  },
  {
   "cell_type": "markdown",
   "metadata": {},
   "source": [
    "### SVM\n",
    "\n",
    "SVM also called Support Vector Machine, is a supervised learning method that can do both classification and regression. SVM can perform a linear regression aswell a non-linear classification using the kernel trick. Basically, it tries to build hyperplanes maximizing the margin (the distance between the hyperplane and the nearest data point). In order to evaluate the model we will try to test different kernels (linear, polynomial, radial basis function, sigmoid function) and see which one leads to a better accuracy."
   ]
  },
  {
   "cell_type": "code",
   "execution_count": 61,
   "metadata": {
    "scrolled": true
   },
   "outputs": [],
   "source": [
    "kernels <- c(\"linear\",\"radial\",\"poly\",\"sigmoid\")\n",
    "\n",
    "svm_results <- data.frame(Kernel=kernels,Time=0,Accuracy=0,F1=0,TPR=0,FPR=0)\n",
    "\n",
    "for(i in 1:length(kernels)){\n",
    "    for(j in 1:K){\n",
    "        test_indexes <- which(folds==j,arr.ind=TRUE)\n",
    "\n",
    "        X_test <- X.data[test_indexes,features]\n",
    "        Y_test <- Y.data[test_indexes]\n",
    "        X_training <- X.data[-test_indexes,features]\n",
    "        Y_training<- Y.data[-test_indexes]\n",
    "\n",
    "        start <- proc.time()[[\"elapsed\"]]\n",
    "        model <- svm(target~.,data=cbind(X_training,target=Y_training), kernel=kernels[i])\n",
    "        Y_hat <- predict(model,X_test)\n",
    "        svm_results[2] <- svm_results[2] + proc.time()[[\"elapsed\"]] - start\n",
    "\n",
    "        Y_hat <- ifelse(Y_hat >=0.5,1,0)\n",
    "\n",
    "        svm_results[-c(1:2)] <- svm_results[-c(1:2)] + evaluate_classification(Y_hat, Y_test)\n",
    "    }\n",
    "    \n",
    "    svm_results[-1] <- round(svm_results[-1]/K,digits=4)\n",
    "}"
   ]
  },
  {
   "cell_type": "code",
   "execution_count": 62,
   "metadata": {},
   "outputs": [
    {
     "data": {
      "text/html": [
       "<table>\n",
       "<caption>A data.frame: 4 × 6</caption>\n",
       "<thead>\n",
       "\t<tr><th scope=col>Kernel</th><th scope=col>Time</th><th scope=col>Accuracy</th><th scope=col>F1</th><th scope=col>TPR</th><th scope=col>FPR</th></tr>\n",
       "\t<tr><th scope=col>&lt;fct&gt;</th><th scope=col>&lt;dbl&gt;</th><th scope=col>&lt;dbl&gt;</th><th scope=col>&lt;dbl&gt;</th><th scope=col>&lt;dbl&gt;</th><th scope=col>&lt;dbl&gt;</th></tr>\n",
       "</thead>\n",
       "<tbody>\n",
       "\t<tr><td>linear </td><td>25.9489</td><td>0.5738</td><td>0.5738</td><td>0.5738</td><td>0.5738</td></tr>\n",
       "\t<tr><td>radial </td><td>25.9489</td><td>0.5728</td><td>0.5728</td><td>0.5728</td><td>0.5728</td></tr>\n",
       "\t<tr><td>poly   </td><td>25.9489</td><td>0.5713</td><td>0.5713</td><td>0.5713</td><td>0.5713</td></tr>\n",
       "\t<tr><td>sigmoid</td><td>25.9489</td><td>0.5425</td><td>0.5425</td><td>0.5425</td><td>0.5425</td></tr>\n",
       "</tbody>\n",
       "</table>\n"
      ],
      "text/latex": [
       "A data.frame: 4 × 6\n",
       "\\begin{tabular}{r|llllll}\n",
       " Kernel & Time & Accuracy & F1 & TPR & FPR\\\\\n",
       " <fct> & <dbl> & <dbl> & <dbl> & <dbl> & <dbl>\\\\\n",
       "\\hline\n",
       "\t linear  & 25.9489 & 0.5738 & 0.5738 & 0.5738 & 0.5738\\\\\n",
       "\t radial  & 25.9489 & 0.5728 & 0.5728 & 0.5728 & 0.5728\\\\\n",
       "\t poly    & 25.9489 & 0.5713 & 0.5713 & 0.5713 & 0.5713\\\\\n",
       "\t sigmoid & 25.9489 & 0.5425 & 0.5425 & 0.5425 & 0.5425\\\\\n",
       "\\end{tabular}\n"
      ],
      "text/markdown": [
       "\n",
       "A data.frame: 4 × 6\n",
       "\n",
       "| Kernel &lt;fct&gt; | Time &lt;dbl&gt; | Accuracy &lt;dbl&gt; | F1 &lt;dbl&gt; | TPR &lt;dbl&gt; | FPR &lt;dbl&gt; |\n",
       "|---|---|---|---|---|---|\n",
       "| linear  | 25.9489 | 0.5738 | 0.5738 | 0.5738 | 0.5738 |\n",
       "| radial  | 25.9489 | 0.5728 | 0.5728 | 0.5728 | 0.5728 |\n",
       "| poly    | 25.9489 | 0.5713 | 0.5713 | 0.5713 | 0.5713 |\n",
       "| sigmoid | 25.9489 | 0.5425 | 0.5425 | 0.5425 | 0.5425 |\n",
       "\n"
      ],
      "text/plain": [
       "  Kernel  Time    Accuracy F1     TPR    FPR   \n",
       "1 linear  25.9489 0.5738   0.5738 0.5738 0.5738\n",
       "2 radial  25.9489 0.5728   0.5728 0.5728 0.5728\n",
       "3 poly    25.9489 0.5713   0.5713 0.5713 0.5713\n",
       "4 sigmoid 25.9489 0.5425   0.5425 0.5425 0.5425"
      ]
     },
     "metadata": {},
     "output_type": "display_data"
    },
    {
     "name": "stdout",
     "output_type": "stream",
     "text": [
      "Best kernel :"
     ]
    },
    {
     "data": {
      "text/html": [
       "<table>\n",
       "<caption>A data.frame: 1 × 6</caption>\n",
       "<thead>\n",
       "\t<tr><th scope=col>Kernel</th><th scope=col>Time</th><th scope=col>Accuracy</th><th scope=col>F1</th><th scope=col>TPR</th><th scope=col>FPR</th></tr>\n",
       "\t<tr><th scope=col>&lt;fct&gt;</th><th scope=col>&lt;dbl&gt;</th><th scope=col>&lt;dbl&gt;</th><th scope=col>&lt;dbl&gt;</th><th scope=col>&lt;dbl&gt;</th><th scope=col>&lt;dbl&gt;</th></tr>\n",
       "</thead>\n",
       "<tbody>\n",
       "\t<tr><td>linear</td><td>25.9489</td><td>0.5738</td><td>0.5738</td><td>0.5738</td><td>0.5738</td></tr>\n",
       "</tbody>\n",
       "</table>\n"
      ],
      "text/latex": [
       "A data.frame: 1 × 6\n",
       "\\begin{tabular}{r|llllll}\n",
       " Kernel & Time & Accuracy & F1 & TPR & FPR\\\\\n",
       " <fct> & <dbl> & <dbl> & <dbl> & <dbl> & <dbl>\\\\\n",
       "\\hline\n",
       "\t linear & 25.9489 & 0.5738 & 0.5738 & 0.5738 & 0.5738\\\\\n",
       "\\end{tabular}\n"
      ],
      "text/markdown": [
       "\n",
       "A data.frame: 1 × 6\n",
       "\n",
       "| Kernel &lt;fct&gt; | Time &lt;dbl&gt; | Accuracy &lt;dbl&gt; | F1 &lt;dbl&gt; | TPR &lt;dbl&gt; | FPR &lt;dbl&gt; |\n",
       "|---|---|---|---|---|---|\n",
       "| linear | 25.9489 | 0.5738 | 0.5738 | 0.5738 | 0.5738 |\n",
       "\n"
      ],
      "text/plain": [
       "  Kernel Time    Accuracy F1     TPR    FPR   \n",
       "1 linear 25.9489 0.5738   0.5738 0.5738 0.5738"
      ]
     },
     "metadata": {},
     "output_type": "display_data"
    }
   ],
   "source": [
    "svm_results\n",
    "cat(\"Best kernel :\")\n",
    "svm_results <- svm_results[which.max(svm_results$Accuracy),]\n",
    "svm_results"
   ]
  },
  {
   "cell_type": "markdown",
   "metadata": {},
   "source": [
    "We can see that the best kernel which gave the best accuracy is the linear kernel. Since the difference time execution between the linear and radial kernel is negligeable, we chose to select the linear kernel and win 0.001 accuracy."
   ]
  },
  {
   "cell_type": "markdown",
   "metadata": {},
   "source": [
    "### Nearest Neighbour\n",
    "\n",
    "The Nearest Neighbour is a method of classification and regression. We have no hyperparameters to tune so we just perform a 10-fold cross validation and estimate the accuracy."
   ]
  },
  {
   "cell_type": "code",
   "execution_count": 63,
   "metadata": {},
   "outputs": [],
   "source": [
    "lazy_results <- data.frame(Time=0, Accuracy=0,F1=0,TPR=0,FPR=0)\n",
    "\n",
    "for(i in 1:K){\n",
    "    test_indexes <- which(folds==i,arr.ind=TRUE)\n",
    "    \n",
    "    X_test <- X.data[test_indexes,features]\n",
    "    Y_test <- Y.data[test_indexes]\n",
    "    X_training <- X.data[-test_indexes,features]\n",
    "    Y_training<- Y.data[-test_indexes]\n",
    "\n",
    "    start <- proc.time()[[\"elapsed\"]]\n",
    "    model <- lazy(target~., cbind(X_training,target=Y_training))\n",
    "    Y_hat <- unlist(predict(model,X_test))\n",
    "    lazy_results[1] <- lazy_results[1] + proc.time()[[\"elapsed\"]] - start\n",
    "\n",
    "    Y_hat <- ifelse(Y_hat >=0.5,1,0)\n",
    "    \n",
    "    lazy_results[-1] <- lazy_results[-1] + evaluate_classification(Y_hat, Y_test) \n",
    "}\n",
    "\n",
    "lazy_results <- round(lazy_results/K,digits=4)"
   ]
  },
  {
   "cell_type": "code",
   "execution_count": 64,
   "metadata": {},
   "outputs": [
    {
     "data": {
      "text/html": [
       "<table>\n",
       "<caption>A matrix: 5 × 1 of type dbl</caption>\n",
       "<tbody>\n",
       "\t<tr><th scope=row>Time</th><td>3.0180</td></tr>\n",
       "\t<tr><th scope=row>Accuracy</th><td>0.6013</td></tr>\n",
       "\t<tr><th scope=row>F1</th><td>0.5903</td></tr>\n",
       "\t<tr><th scope=row>TPR</th><td>0.6040</td></tr>\n",
       "\t<tr><th scope=row>FPR</th><td>0.4057</td></tr>\n",
       "</tbody>\n",
       "</table>\n"
      ],
      "text/latex": [
       "A matrix: 5 × 1 of type dbl\n",
       "\\begin{tabular}{r|l}\n",
       "\tTime & 3.0180\\\\\n",
       "\tAccuracy & 0.6013\\\\\n",
       "\tF1 & 0.5903\\\\\n",
       "\tTPR & 0.6040\\\\\n",
       "\tFPR & 0.4057\\\\\n",
       "\\end{tabular}\n"
      ],
      "text/markdown": [
       "\n",
       "A matrix: 5 × 1 of type dbl\n",
       "\n",
       "| Time | 3.0180 |\n",
       "| Accuracy | 0.6013 |\n",
       "| F1 | 0.5903 |\n",
       "| TPR | 0.6040 |\n",
       "| FPR | 0.4057 |\n",
       "\n"
      ],
      "text/plain": [
       "         [,1]  \n",
       "Time     3.0180\n",
       "Accuracy 0.6013\n",
       "F1       0.5903\n",
       "TPR      0.6040\n",
       "FPR      0.4057"
      ]
     },
     "metadata": {},
     "output_type": "display_data"
    }
   ],
   "source": [
    "t(lazy_results)"
   ]
  },
  {
   "cell_type": "markdown",
   "metadata": {},
   "source": [
    "We obtained an accuracy of 60% which is less that the two previous models."
   ]
  },
  {
   "cell_type": "markdown",
   "metadata": {},
   "source": [
    "### Decision Trees\n",
    "\n",
    "The Decision tree model consist of building a decision tree during the training process where the conditions on the internals nodes are defined by the features of the input data set. By setting up the tree, the model can classify new inputs by going through the tree from the top to the leaf. We have no hyperparameters to tune for this model so we will just perform a 10-fols cross validation."
   ]
  },
  {
   "cell_type": "code",
   "execution_count": 65,
   "metadata": {
    "scrolled": false
   },
   "outputs": [],
   "source": [
    "tree_results <- data.frame(Time=0,Accuracy=0,F1=0,TPR=0,FPR=0)\n",
    "\n",
    "for(i in 1:K){\n",
    "    test_indexes <- which(folds==i,arr.ind=TRUE)\n",
    "    \n",
    "    X_test <- X.data[test_indexes,features]\n",
    "    Y_test <- Y.data[test_indexes]\n",
    "    X_training <- X.data[-test_indexes,features]\n",
    "    Y_training<- Y.data[-test_indexes]\n",
    "    \n",
    "    training_data <- cbind(X_training,target=Y_training)\n",
    "    \n",
    "    start <- proc.time()[[\"elapsed\"]]\n",
    "    model <- rpart(target~., training_data)\n",
    "    \n",
    "    options(warn=-1)\n",
    "    Y_hat <- predict(model,X_test)\n",
    "    options(warn=1)\n",
    "    tree_results[1] <- tree_results[1] + proc.time()[[\"elapsed\"]] - start\n",
    "\n",
    "    Y_hat <- ifelse(Y_hat >=0.5,1,0)\n",
    "    \n",
    "    tree_results[-1] <- tree_results[-1] + evaluate_classification(Y_hat, Y_test) \n",
    "}\n",
    "\n",
    "tree_results <- round(tree_results/K,digits=4)"
   ]
  },
  {
   "cell_type": "code",
   "execution_count": 66,
   "metadata": {},
   "outputs": [
    {
     "data": {
      "text/html": [
       "<table>\n",
       "<caption>A matrix: 5 × 1 of type dbl</caption>\n",
       "<tbody>\n",
       "\t<tr><th scope=row>Time</th><td>0.4760</td></tr>\n",
       "\t<tr><th scope=row>Accuracy</th><td>0.5955</td></tr>\n",
       "\t<tr><th scope=row>F1</th><td>0.6173</td></tr>\n",
       "\t<tr><th scope=row>TPR</th><td>0.5830</td></tr>\n",
       "\t<tr><th scope=row>FPR</th><td>0.3724</td></tr>\n",
       "</tbody>\n",
       "</table>\n"
      ],
      "text/latex": [
       "A matrix: 5 × 1 of type dbl\n",
       "\\begin{tabular}{r|l}\n",
       "\tTime & 0.4760\\\\\n",
       "\tAccuracy & 0.5955\\\\\n",
       "\tF1 & 0.6173\\\\\n",
       "\tTPR & 0.5830\\\\\n",
       "\tFPR & 0.3724\\\\\n",
       "\\end{tabular}\n"
      ],
      "text/markdown": [
       "\n",
       "A matrix: 5 × 1 of type dbl\n",
       "\n",
       "| Time | 0.4760 |\n",
       "| Accuracy | 0.5955 |\n",
       "| F1 | 0.6173 |\n",
       "| TPR | 0.5830 |\n",
       "| FPR | 0.3724 |\n",
       "\n"
      ],
      "text/plain": [
       "         [,1]  \n",
       "Time     0.4760\n",
       "Accuracy 0.5955\n",
       "F1       0.6173\n",
       "TPR      0.5830\n",
       "FPR      0.3724"
      ]
     },
     "metadata": {},
     "output_type": "display_data"
    }
   ],
   "source": [
    "t(tree_results)"
   ]
  },
  {
   "cell_type": "markdown",
   "metadata": {},
   "source": [
    "As we can see, decision tree perform bad compared to the previous models we have seen."
   ]
  },
  {
   "cell_type": "markdown",
   "metadata": {},
   "source": [
    "### Random Forests\n",
    "\n",
    "Random Forest consits of many decision trees that train on the same train set and whenever a classification need to be made, the majority vote is returned as the predicted value. The hyperparameter that we tune here is the number of trees. In fact, Larger the tree, it will be more computationally expensive to build models, so we need to find a good trade-off."
   ]
  },
  {
   "cell_type": "code",
   "execution_count": 67,
   "metadata": {
    "scrolled": true
   },
   "outputs": [],
   "source": [
    "n_trees = c(50,100,250,500)\n",
    "\n",
    "rf_results <- data.frame(NbTrees=n_trees,Time=0,Accuracy=0,F1=0,TPR=0,FPR=0)\n",
    "\n",
    "for (i in 1:length(n_trees)){\n",
    "    for(j in 1:K){\n",
    "        test_indexes <- which(folds==j,arr.ind=TRUE)\n",
    "\n",
    "        X_test <- X.data[test_indexes,features]\n",
    "        Y_test <- Y.data[test_indexes]\n",
    "        X_training <- X.data[-test_indexes,features]\n",
    "        Y_training<- Y.data[-test_indexes]\n",
    "        \n",
    "        start <- proc.time()[[\"elapsed\"]]\n",
    "        model <- randomForest(X_training, as.factor(Y_training), ntree=n_trees[i])\n",
    "        Y_hat <- predict(model,X_test)\n",
    "        rf_results[i,2] <- rf_results[i,2] + proc.time()[[\"elapsed\"]] - start\n",
    "\n",
    "        rf_results[i,-c(1:2)] <- rf_results[i,-c(1:2)] + evaluate_classification(Y_hat, Y_test)\n",
    "    }\n",
    "\n",
    "    rf_results[i,-1] <- round(rf_results[i,-1]/K,digits=4)\n",
    "}"
   ]
  },
  {
   "cell_type": "code",
   "execution_count": 68,
   "metadata": {},
   "outputs": [
    {
     "data": {
      "text/html": [
       "<table>\n",
       "<caption>A data.frame: 4 × 6</caption>\n",
       "<thead>\n",
       "\t<tr><th scope=col>NbTrees</th><th scope=col>Time</th><th scope=col>Accuracy</th><th scope=col>F1</th><th scope=col>TPR</th><th scope=col>FPR</th></tr>\n",
       "\t<tr><th scope=col>&lt;dbl&gt;</th><th scope=col>&lt;dbl&gt;</th><th scope=col>&lt;dbl&gt;</th><th scope=col>&lt;dbl&gt;</th><th scope=col>&lt;dbl&gt;</th><th scope=col>&lt;dbl&gt;</th></tr>\n",
       "</thead>\n",
       "<tbody>\n",
       "\t<tr><td> 50</td><td> 1.461</td><td>0.6344</td><td>0.6303</td><td>0.6339</td><td>0.3680</td></tr>\n",
       "\t<tr><td>100</td><td> 2.903</td><td>0.6382</td><td>0.6364</td><td>0.6374</td><td>0.3643</td></tr>\n",
       "\t<tr><td>250</td><td> 7.188</td><td>0.6421</td><td>0.6393</td><td>0.6410</td><td>0.3597</td></tr>\n",
       "\t<tr><td>500</td><td>14.150</td><td>0.6438</td><td>0.6410</td><td>0.6419</td><td>0.3563</td></tr>\n",
       "</tbody>\n",
       "</table>\n"
      ],
      "text/latex": [
       "A data.frame: 4 × 6\n",
       "\\begin{tabular}{r|llllll}\n",
       " NbTrees & Time & Accuracy & F1 & TPR & FPR\\\\\n",
       " <dbl> & <dbl> & <dbl> & <dbl> & <dbl> & <dbl>\\\\\n",
       "\\hline\n",
       "\t  50 &  1.461 & 0.6344 & 0.6303 & 0.6339 & 0.3680\\\\\n",
       "\t 100 &  2.903 & 0.6382 & 0.6364 & 0.6374 & 0.3643\\\\\n",
       "\t 250 &  7.188 & 0.6421 & 0.6393 & 0.6410 & 0.3597\\\\\n",
       "\t 500 & 14.150 & 0.6438 & 0.6410 & 0.6419 & 0.3563\\\\\n",
       "\\end{tabular}\n"
      ],
      "text/markdown": [
       "\n",
       "A data.frame: 4 × 6\n",
       "\n",
       "| NbTrees &lt;dbl&gt; | Time &lt;dbl&gt; | Accuracy &lt;dbl&gt; | F1 &lt;dbl&gt; | TPR &lt;dbl&gt; | FPR &lt;dbl&gt; |\n",
       "|---|---|---|---|---|---|\n",
       "|  50 |  1.461 | 0.6344 | 0.6303 | 0.6339 | 0.3680 |\n",
       "| 100 |  2.903 | 0.6382 | 0.6364 | 0.6374 | 0.3643 |\n",
       "| 250 |  7.188 | 0.6421 | 0.6393 | 0.6410 | 0.3597 |\n",
       "| 500 | 14.150 | 0.6438 | 0.6410 | 0.6419 | 0.3563 |\n",
       "\n"
      ],
      "text/plain": [
       "  NbTrees Time   Accuracy F1     TPR    FPR   \n",
       "1  50      1.461 0.6344   0.6303 0.6339 0.3680\n",
       "2 100      2.903 0.6382   0.6364 0.6374 0.3643\n",
       "3 250      7.188 0.6421   0.6393 0.6410 0.3597\n",
       "4 500     14.150 0.6438   0.6410 0.6419 0.3563"
      ]
     },
     "metadata": {},
     "output_type": "display_data"
    },
    {
     "name": "stdout",
     "output_type": "stream",
     "text": [
      "Best number of trees :"
     ]
    },
    {
     "data": {
      "text/html": [
       "<table>\n",
       "<caption>A data.frame: 1 × 6</caption>\n",
       "<thead>\n",
       "\t<tr><th></th><th scope=col>NbTrees</th><th scope=col>Time</th><th scope=col>Accuracy</th><th scope=col>F1</th><th scope=col>TPR</th><th scope=col>FPR</th></tr>\n",
       "\t<tr><th></th><th scope=col>&lt;dbl&gt;</th><th scope=col>&lt;dbl&gt;</th><th scope=col>&lt;dbl&gt;</th><th scope=col>&lt;dbl&gt;</th><th scope=col>&lt;dbl&gt;</th><th scope=col>&lt;dbl&gt;</th></tr>\n",
       "</thead>\n",
       "<tbody>\n",
       "\t<tr><th scope=row>4</th><td>500</td><td>14.15</td><td>0.6438</td><td>0.641</td><td>0.6419</td><td>0.3563</td></tr>\n",
       "</tbody>\n",
       "</table>\n"
      ],
      "text/latex": [
       "A data.frame: 1 × 6\n",
       "\\begin{tabular}{r|llllll}\n",
       "  & NbTrees & Time & Accuracy & F1 & TPR & FPR\\\\\n",
       "  & <dbl> & <dbl> & <dbl> & <dbl> & <dbl> & <dbl>\\\\\n",
       "\\hline\n",
       "\t4 & 500 & 14.15 & 0.6438 & 0.641 & 0.6419 & 0.3563\\\\\n",
       "\\end{tabular}\n"
      ],
      "text/markdown": [
       "\n",
       "A data.frame: 1 × 6\n",
       "\n",
       "| <!--/--> | NbTrees &lt;dbl&gt; | Time &lt;dbl&gt; | Accuracy &lt;dbl&gt; | F1 &lt;dbl&gt; | TPR &lt;dbl&gt; | FPR &lt;dbl&gt; |\n",
       "|---|---|---|---|---|---|---|\n",
       "| 4 | 500 | 14.15 | 0.6438 | 0.641 | 0.6419 | 0.3563 |\n",
       "\n"
      ],
      "text/plain": [
       "  NbTrees Time  Accuracy F1    TPR    FPR   \n",
       "4 500     14.15 0.6438   0.641 0.6419 0.3563"
      ]
     },
     "metadata": {},
     "output_type": "display_data"
    }
   ],
   "source": [
    "rf_results\n",
    "cat(\"Best number of trees :\")\n",
    "rf_results <- rf_results[which.max(rf_results$Accuracy),]\n",
    "rf_results"
   ]
  },
  {
   "cell_type": "markdown",
   "metadata": {},
   "source": [
    "We can see that the best number of trees that has been found is 500 and gives an accuracy of 64.4% which is the highest till now."
   ]
  },
  {
   "cell_type": "markdown",
   "metadata": {},
   "source": [
    "### Neural Networks\n",
    "\n",
    "Neural network are network of nodes (neuron) that try to imitate what happens with in biological brains with the neurons. The model is structured this way: First there is an input layer, then there are one or more hidden layers (in our case just one) and finally there is an output layer. The layers are connected between them and can have a certain quantity of nodes. Between two nodes the connection has a certain weigth. The weighs are update during the training process of the network and they are responsible of the good performance of the network. \n",
    "\n",
    "Neural networks have many hyperparameters to tune: The **size** of the hidden layer (number of nodes of the layer), the maximum **number of iterations** and the **rang** (the value that gives the interval [-rang, rang] wich will be used for initializing weights values)."
   ]
  },
  {
   "cell_type": "code",
   "execution_count": 69,
   "metadata": {
    "scrolled": true
   },
   "outputs": [],
   "source": [
    "sizes = c(2, 7,15)\n",
    "maxit = c(50,100,150)\n",
    "rangs = c(0.1,0.5,1)\n",
    "\n",
    "combinations <- expand.grid(sizes,maxit,rangs)\n",
    "\n",
    "nnet_results <- data.frame(Size=combinations[,1],MaxIt=combinations[,2],Rang=combinations[,3],Time=0,Accuracy=0,F1=0,TPR=0,FPR=0)\n",
    "\n",
    "for(row in 1:nrow(combinations)){\n",
    "    for(i in 1:K){\n",
    "        test_indexes <- which(folds==i,arr.ind=TRUE)\n",
    "\n",
    "        X_test <- X.data[test_indexes,features]\n",
    "        Y_test <- Y.data[test_indexes]\n",
    "        X_training <- X.data[-test_indexes,features]\n",
    "        Y_training<- Y.data[-test_indexes]\n",
    "\n",
    "        params <- as.numeric(combinations[row,])\n",
    "        \n",
    "        start <- proc.time()[[\"elapsed\"]]\n",
    "        model <- nnet(target~., data=cbind(X_training,target=Y_training), trace=F,size=params[1],maxit=params[2],rang=params[3])\n",
    "        Y_hat <- predict(model,X_test)\n",
    "        nnet_results[i,4] <- nnet_results[i,4] + proc.time()[[\"elapsed\"]] - start\n",
    "\n",
    "        Y_hat <- ifelse(Y_hat >=0.5,1,0)\n",
    "\n",
    "        nnet_results[row,-c(1:4)] <- nnet_results[row,-c(1:4)] + evaluate_classification(Y_hat, Y_test)\n",
    "    }\n",
    "    \n",
    "    nnet_results[row,-c(1:3)] <- round(nnet_results[row,-c(1:3)]/K,digits=4)\n",
    "}"
   ]
  },
  {
   "cell_type": "code",
   "execution_count": 70,
   "metadata": {
    "scrolled": true
   },
   "outputs": [
    {
     "data": {
      "text/html": [
       "<table>\n",
       "<caption>A data.frame: 27 × 8</caption>\n",
       "<thead>\n",
       "\t<tr><th scope=col>Size</th><th scope=col>MaxIt</th><th scope=col>Rang</th><th scope=col>Time</th><th scope=col>Accuracy</th><th scope=col>F1</th><th scope=col>TPR</th><th scope=col>FPR</th></tr>\n",
       "\t<tr><th scope=col>&lt;dbl&gt;</th><th scope=col>&lt;dbl&gt;</th><th scope=col>&lt;dbl&gt;</th><th scope=col>&lt;dbl&gt;</th><th scope=col>&lt;dbl&gt;</th><th scope=col>&lt;dbl&gt;</th><th scope=col>&lt;dbl&gt;</th><th scope=col>&lt;dbl&gt;</th></tr>\n",
       "</thead>\n",
       "<tbody>\n",
       "\t<tr><td> 2</td><td> 50</td><td>0.1</td><td>78.598</td><td>0.6419</td><td>0.6525</td><td>0.6357</td><td>0.3505</td></tr>\n",
       "\t<tr><td> 7</td><td> 50</td><td>0.1</td><td>75.733</td><td>0.6398</td><td>0.6277</td><td>0.6456</td><td>0.3673</td></tr>\n",
       "\t<tr><td>15</td><td> 50</td><td>0.1</td><td>73.385</td><td>0.6372</td><td>0.6333</td><td>0.6424</td><td>0.3687</td></tr>\n",
       "\t<tr><td> 2</td><td>100</td><td>0.1</td><td>73.734</td><td>0.6391</td><td>0.6346</td><td>0.6388</td><td>0.3634</td></tr>\n",
       "\t<tr><td> 7</td><td>100</td><td>0.1</td><td>71.143</td><td>0.6415</td><td>0.6325</td><td>0.6446</td><td>0.3626</td></tr>\n",
       "\t<tr><td>15</td><td>100</td><td>0.1</td><td>65.645</td><td>0.6314</td><td>0.6210</td><td>0.6360</td><td>0.3751</td></tr>\n",
       "\t<tr><td> 2</td><td>150</td><td>0.1</td><td>64.353</td><td>0.6387</td><td>0.6375</td><td>0.6381</td><td>0.3568</td></tr>\n",
       "\t<tr><td> 7</td><td>150</td><td>0.1</td><td>59.803</td><td>0.6324</td><td>0.6308</td><td>0.6329</td><td>0.3710</td></tr>\n",
       "\t<tr><td>15</td><td>150</td><td>0.1</td><td>52.378</td><td>0.6184</td><td>0.6108</td><td>0.6186</td><td>0.3842</td></tr>\n",
       "\t<tr><td> 2</td><td> 50</td><td>0.5</td><td>51.895</td><td>0.6407</td><td>0.6410</td><td>0.6398</td><td>0.3565</td></tr>\n",
       "\t<tr><td> 7</td><td> 50</td><td>0.5</td><td> 0.000</td><td>0.6398</td><td>0.6285</td><td>0.6485</td><td>0.3666</td></tr>\n",
       "\t<tr><td>15</td><td> 50</td><td>0.5</td><td> 0.000</td><td>0.6290</td><td>0.6181</td><td>0.6354</td><td>0.3778</td></tr>\n",
       "\t<tr><td> 2</td><td>100</td><td>0.5</td><td> 0.000</td><td>0.6395</td><td>0.6442</td><td>0.6376</td><td>0.3502</td></tr>\n",
       "\t<tr><td> 7</td><td>100</td><td>0.5</td><td> 0.000</td><td>0.6327</td><td>0.6266</td><td>0.6386</td><td>0.3767</td></tr>\n",
       "\t<tr><td>15</td><td>100</td><td>0.5</td><td> 0.000</td><td>0.6216</td><td>0.6061</td><td>0.6280</td><td>0.3860</td></tr>\n",
       "\t<tr><td> 2</td><td>150</td><td>0.5</td><td> 0.000</td><td>0.6401</td><td>0.6448</td><td>0.6369</td><td>0.3530</td></tr>\n",
       "\t<tr><td> 7</td><td>150</td><td>0.5</td><td> 0.000</td><td>0.6317</td><td>0.6259</td><td>0.6337</td><td>0.3716</td></tr>\n",
       "\t<tr><td>15</td><td>150</td><td>0.5</td><td> 0.000</td><td>0.6114</td><td>0.6049</td><td>0.6148</td><td>0.3938</td></tr>\n",
       "\t<tr><td> 2</td><td> 50</td><td>1.0</td><td> 0.000</td><td>0.6408</td><td>0.6424</td><td>0.6407</td><td>0.3570</td></tr>\n",
       "\t<tr><td> 7</td><td> 50</td><td>1.0</td><td> 0.000</td><td>0.6409</td><td>0.6295</td><td>0.6475</td><td>0.3614</td></tr>\n",
       "\t<tr><td>15</td><td> 50</td><td>1.0</td><td> 0.000</td><td>0.6315</td><td>0.6249</td><td>0.6352</td><td>0.3735</td></tr>\n",
       "\t<tr><td> 2</td><td>100</td><td>1.0</td><td> 0.000</td><td>0.6383</td><td>0.6395</td><td>0.6367</td><td>0.3592</td></tr>\n",
       "\t<tr><td> 7</td><td>100</td><td>1.0</td><td> 0.000</td><td>0.6348</td><td>0.6247</td><td>0.6391</td><td>0.3686</td></tr>\n",
       "\t<tr><td>15</td><td>100</td><td>1.0</td><td> 0.000</td><td>0.6271</td><td>0.6237</td><td>0.6284</td><td>0.3787</td></tr>\n",
       "\t<tr><td> 2</td><td>150</td><td>1.0</td><td> 0.000</td><td>0.6375</td><td>0.6375</td><td>0.6367</td><td>0.3558</td></tr>\n",
       "\t<tr><td> 7</td><td>150</td><td>1.0</td><td> 0.000</td><td>0.6223</td><td>0.6118</td><td>0.6256</td><td>0.3815</td></tr>\n",
       "\t<tr><td>15</td><td>150</td><td>1.0</td><td> 0.000</td><td>0.6088</td><td>0.6008</td><td>0.6110</td><td>0.3986</td></tr>\n",
       "</tbody>\n",
       "</table>\n"
      ],
      "text/latex": [
       "A data.frame: 27 × 8\n",
       "\\begin{tabular}{r|llllllll}\n",
       " Size & MaxIt & Rang & Time & Accuracy & F1 & TPR & FPR\\\\\n",
       " <dbl> & <dbl> & <dbl> & <dbl> & <dbl> & <dbl> & <dbl> & <dbl>\\\\\n",
       "\\hline\n",
       "\t  2 &  50 & 0.1 & 78.598 & 0.6419 & 0.6525 & 0.6357 & 0.3505\\\\\n",
       "\t  7 &  50 & 0.1 & 75.733 & 0.6398 & 0.6277 & 0.6456 & 0.3673\\\\\n",
       "\t 15 &  50 & 0.1 & 73.385 & 0.6372 & 0.6333 & 0.6424 & 0.3687\\\\\n",
       "\t  2 & 100 & 0.1 & 73.734 & 0.6391 & 0.6346 & 0.6388 & 0.3634\\\\\n",
       "\t  7 & 100 & 0.1 & 71.143 & 0.6415 & 0.6325 & 0.6446 & 0.3626\\\\\n",
       "\t 15 & 100 & 0.1 & 65.645 & 0.6314 & 0.6210 & 0.6360 & 0.3751\\\\\n",
       "\t  2 & 150 & 0.1 & 64.353 & 0.6387 & 0.6375 & 0.6381 & 0.3568\\\\\n",
       "\t  7 & 150 & 0.1 & 59.803 & 0.6324 & 0.6308 & 0.6329 & 0.3710\\\\\n",
       "\t 15 & 150 & 0.1 & 52.378 & 0.6184 & 0.6108 & 0.6186 & 0.3842\\\\\n",
       "\t  2 &  50 & 0.5 & 51.895 & 0.6407 & 0.6410 & 0.6398 & 0.3565\\\\\n",
       "\t  7 &  50 & 0.5 &  0.000 & 0.6398 & 0.6285 & 0.6485 & 0.3666\\\\\n",
       "\t 15 &  50 & 0.5 &  0.000 & 0.6290 & 0.6181 & 0.6354 & 0.3778\\\\\n",
       "\t  2 & 100 & 0.5 &  0.000 & 0.6395 & 0.6442 & 0.6376 & 0.3502\\\\\n",
       "\t  7 & 100 & 0.5 &  0.000 & 0.6327 & 0.6266 & 0.6386 & 0.3767\\\\\n",
       "\t 15 & 100 & 0.5 &  0.000 & 0.6216 & 0.6061 & 0.6280 & 0.3860\\\\\n",
       "\t  2 & 150 & 0.5 &  0.000 & 0.6401 & 0.6448 & 0.6369 & 0.3530\\\\\n",
       "\t  7 & 150 & 0.5 &  0.000 & 0.6317 & 0.6259 & 0.6337 & 0.3716\\\\\n",
       "\t 15 & 150 & 0.5 &  0.000 & 0.6114 & 0.6049 & 0.6148 & 0.3938\\\\\n",
       "\t  2 &  50 & 1.0 &  0.000 & 0.6408 & 0.6424 & 0.6407 & 0.3570\\\\\n",
       "\t  7 &  50 & 1.0 &  0.000 & 0.6409 & 0.6295 & 0.6475 & 0.3614\\\\\n",
       "\t 15 &  50 & 1.0 &  0.000 & 0.6315 & 0.6249 & 0.6352 & 0.3735\\\\\n",
       "\t  2 & 100 & 1.0 &  0.000 & 0.6383 & 0.6395 & 0.6367 & 0.3592\\\\\n",
       "\t  7 & 100 & 1.0 &  0.000 & 0.6348 & 0.6247 & 0.6391 & 0.3686\\\\\n",
       "\t 15 & 100 & 1.0 &  0.000 & 0.6271 & 0.6237 & 0.6284 & 0.3787\\\\\n",
       "\t  2 & 150 & 1.0 &  0.000 & 0.6375 & 0.6375 & 0.6367 & 0.3558\\\\\n",
       "\t  7 & 150 & 1.0 &  0.000 & 0.6223 & 0.6118 & 0.6256 & 0.3815\\\\\n",
       "\t 15 & 150 & 1.0 &  0.000 & 0.6088 & 0.6008 & 0.6110 & 0.3986\\\\\n",
       "\\end{tabular}\n"
      ],
      "text/markdown": [
       "\n",
       "A data.frame: 27 × 8\n",
       "\n",
       "| Size &lt;dbl&gt; | MaxIt &lt;dbl&gt; | Rang &lt;dbl&gt; | Time &lt;dbl&gt; | Accuracy &lt;dbl&gt; | F1 &lt;dbl&gt; | TPR &lt;dbl&gt; | FPR &lt;dbl&gt; |\n",
       "|---|---|---|---|---|---|---|---|\n",
       "|  2 |  50 | 0.1 | 78.598 | 0.6419 | 0.6525 | 0.6357 | 0.3505 |\n",
       "|  7 |  50 | 0.1 | 75.733 | 0.6398 | 0.6277 | 0.6456 | 0.3673 |\n",
       "| 15 |  50 | 0.1 | 73.385 | 0.6372 | 0.6333 | 0.6424 | 0.3687 |\n",
       "|  2 | 100 | 0.1 | 73.734 | 0.6391 | 0.6346 | 0.6388 | 0.3634 |\n",
       "|  7 | 100 | 0.1 | 71.143 | 0.6415 | 0.6325 | 0.6446 | 0.3626 |\n",
       "| 15 | 100 | 0.1 | 65.645 | 0.6314 | 0.6210 | 0.6360 | 0.3751 |\n",
       "|  2 | 150 | 0.1 | 64.353 | 0.6387 | 0.6375 | 0.6381 | 0.3568 |\n",
       "|  7 | 150 | 0.1 | 59.803 | 0.6324 | 0.6308 | 0.6329 | 0.3710 |\n",
       "| 15 | 150 | 0.1 | 52.378 | 0.6184 | 0.6108 | 0.6186 | 0.3842 |\n",
       "|  2 |  50 | 0.5 | 51.895 | 0.6407 | 0.6410 | 0.6398 | 0.3565 |\n",
       "|  7 |  50 | 0.5 |  0.000 | 0.6398 | 0.6285 | 0.6485 | 0.3666 |\n",
       "| 15 |  50 | 0.5 |  0.000 | 0.6290 | 0.6181 | 0.6354 | 0.3778 |\n",
       "|  2 | 100 | 0.5 |  0.000 | 0.6395 | 0.6442 | 0.6376 | 0.3502 |\n",
       "|  7 | 100 | 0.5 |  0.000 | 0.6327 | 0.6266 | 0.6386 | 0.3767 |\n",
       "| 15 | 100 | 0.5 |  0.000 | 0.6216 | 0.6061 | 0.6280 | 0.3860 |\n",
       "|  2 | 150 | 0.5 |  0.000 | 0.6401 | 0.6448 | 0.6369 | 0.3530 |\n",
       "|  7 | 150 | 0.5 |  0.000 | 0.6317 | 0.6259 | 0.6337 | 0.3716 |\n",
       "| 15 | 150 | 0.5 |  0.000 | 0.6114 | 0.6049 | 0.6148 | 0.3938 |\n",
       "|  2 |  50 | 1.0 |  0.000 | 0.6408 | 0.6424 | 0.6407 | 0.3570 |\n",
       "|  7 |  50 | 1.0 |  0.000 | 0.6409 | 0.6295 | 0.6475 | 0.3614 |\n",
       "| 15 |  50 | 1.0 |  0.000 | 0.6315 | 0.6249 | 0.6352 | 0.3735 |\n",
       "|  2 | 100 | 1.0 |  0.000 | 0.6383 | 0.6395 | 0.6367 | 0.3592 |\n",
       "|  7 | 100 | 1.0 |  0.000 | 0.6348 | 0.6247 | 0.6391 | 0.3686 |\n",
       "| 15 | 100 | 1.0 |  0.000 | 0.6271 | 0.6237 | 0.6284 | 0.3787 |\n",
       "|  2 | 150 | 1.0 |  0.000 | 0.6375 | 0.6375 | 0.6367 | 0.3558 |\n",
       "|  7 | 150 | 1.0 |  0.000 | 0.6223 | 0.6118 | 0.6256 | 0.3815 |\n",
       "| 15 | 150 | 1.0 |  0.000 | 0.6088 | 0.6008 | 0.6110 | 0.3986 |\n",
       "\n"
      ],
      "text/plain": [
       "   Size MaxIt Rang Time   Accuracy F1     TPR    FPR   \n",
       "1   2    50   0.1  78.598 0.6419   0.6525 0.6357 0.3505\n",
       "2   7    50   0.1  75.733 0.6398   0.6277 0.6456 0.3673\n",
       "3  15    50   0.1  73.385 0.6372   0.6333 0.6424 0.3687\n",
       "4   2   100   0.1  73.734 0.6391   0.6346 0.6388 0.3634\n",
       "5   7   100   0.1  71.143 0.6415   0.6325 0.6446 0.3626\n",
       "6  15   100   0.1  65.645 0.6314   0.6210 0.6360 0.3751\n",
       "7   2   150   0.1  64.353 0.6387   0.6375 0.6381 0.3568\n",
       "8   7   150   0.1  59.803 0.6324   0.6308 0.6329 0.3710\n",
       "9  15   150   0.1  52.378 0.6184   0.6108 0.6186 0.3842\n",
       "10  2    50   0.5  51.895 0.6407   0.6410 0.6398 0.3565\n",
       "11  7    50   0.5   0.000 0.6398   0.6285 0.6485 0.3666\n",
       "12 15    50   0.5   0.000 0.6290   0.6181 0.6354 0.3778\n",
       "13  2   100   0.5   0.000 0.6395   0.6442 0.6376 0.3502\n",
       "14  7   100   0.5   0.000 0.6327   0.6266 0.6386 0.3767\n",
       "15 15   100   0.5   0.000 0.6216   0.6061 0.6280 0.3860\n",
       "16  2   150   0.5   0.000 0.6401   0.6448 0.6369 0.3530\n",
       "17  7   150   0.5   0.000 0.6317   0.6259 0.6337 0.3716\n",
       "18 15   150   0.5   0.000 0.6114   0.6049 0.6148 0.3938\n",
       "19  2    50   1.0   0.000 0.6408   0.6424 0.6407 0.3570\n",
       "20  7    50   1.0   0.000 0.6409   0.6295 0.6475 0.3614\n",
       "21 15    50   1.0   0.000 0.6315   0.6249 0.6352 0.3735\n",
       "22  2   100   1.0   0.000 0.6383   0.6395 0.6367 0.3592\n",
       "23  7   100   1.0   0.000 0.6348   0.6247 0.6391 0.3686\n",
       "24 15   100   1.0   0.000 0.6271   0.6237 0.6284 0.3787\n",
       "25  2   150   1.0   0.000 0.6375   0.6375 0.6367 0.3558\n",
       "26  7   150   1.0   0.000 0.6223   0.6118 0.6256 0.3815\n",
       "27 15   150   1.0   0.000 0.6088   0.6008 0.6110 0.3986"
      ]
     },
     "metadata": {},
     "output_type": "display_data"
    },
    {
     "name": "stdout",
     "output_type": "stream",
     "text": [
      "Best size, maxit and rang :"
     ]
    },
    {
     "data": {
      "text/html": [
       "<table>\n",
       "<caption>A data.frame: 1 × 8</caption>\n",
       "<thead>\n",
       "\t<tr><th scope=col>Size</th><th scope=col>MaxIt</th><th scope=col>Rang</th><th scope=col>Time</th><th scope=col>Accuracy</th><th scope=col>F1</th><th scope=col>TPR</th><th scope=col>FPR</th></tr>\n",
       "\t<tr><th scope=col>&lt;dbl&gt;</th><th scope=col>&lt;dbl&gt;</th><th scope=col>&lt;dbl&gt;</th><th scope=col>&lt;dbl&gt;</th><th scope=col>&lt;dbl&gt;</th><th scope=col>&lt;dbl&gt;</th><th scope=col>&lt;dbl&gt;</th><th scope=col>&lt;dbl&gt;</th></tr>\n",
       "</thead>\n",
       "<tbody>\n",
       "\t<tr><td>2</td><td>50</td><td>0.1</td><td>78.598</td><td>0.6419</td><td>0.6525</td><td>0.6357</td><td>0.3505</td></tr>\n",
       "</tbody>\n",
       "</table>\n"
      ],
      "text/latex": [
       "A data.frame: 1 × 8\n",
       "\\begin{tabular}{r|llllllll}\n",
       " Size & MaxIt & Rang & Time & Accuracy & F1 & TPR & FPR\\\\\n",
       " <dbl> & <dbl> & <dbl> & <dbl> & <dbl> & <dbl> & <dbl> & <dbl>\\\\\n",
       "\\hline\n",
       "\t 2 & 50 & 0.1 & 78.598 & 0.6419 & 0.6525 & 0.6357 & 0.3505\\\\\n",
       "\\end{tabular}\n"
      ],
      "text/markdown": [
       "\n",
       "A data.frame: 1 × 8\n",
       "\n",
       "| Size &lt;dbl&gt; | MaxIt &lt;dbl&gt; | Rang &lt;dbl&gt; | Time &lt;dbl&gt; | Accuracy &lt;dbl&gt; | F1 &lt;dbl&gt; | TPR &lt;dbl&gt; | FPR &lt;dbl&gt; |\n",
       "|---|---|---|---|---|---|---|---|\n",
       "| 2 | 50 | 0.1 | 78.598 | 0.6419 | 0.6525 | 0.6357 | 0.3505 |\n",
       "\n"
      ],
      "text/plain": [
       "  Size MaxIt Rang Time   Accuracy F1     TPR    FPR   \n",
       "1 2    50    0.1  78.598 0.6419   0.6525 0.6357 0.3505"
      ]
     },
     "metadata": {},
     "output_type": "display_data"
    }
   ],
   "source": [
    "nnet_results\n",
    "cat(\"Best size, maxit and rang :\")\n",
    "nnet_results <- nnet_results[which.max(nnet_results$Accuracy),]\n",
    "nnet_results"
   ]
  },
  {
   "cell_type": "markdown",
   "metadata": {},
   "source": [
    "The best accuracy that was found is given by the combinations of 2 hidden nodes, 50 maximum iteration and 0.1 value for rang. We have an accuracy of 64.3% which is close to the accuracy of random forest and linear model."
   ]
  },
  {
   "cell_type": "markdown",
   "metadata": {},
   "source": [
    "### Radial Basis Function Network\n",
    "\n",
    "A RBF Network is basically a Neural Network but as a activation function, it has a Radial Basis Function. An activation function is simply the function that will define the ouput of a node given a certain input.\n",
    "\n",
    "Here we have to tune two parameters **max_iterations** and **linOuts**. The first one corresponds to the number of maximum iterations and the second one sets the activation function of outpus nodes to linear or logistic."
   ]
  },
  {
   "cell_type": "code",
   "execution_count": 71,
   "metadata": {
    "scrolled": true
   },
   "outputs": [],
   "source": [
    "max_iterations <- c(10,20,40,60,80,100,150)\n",
    "linOuts <- c(0,1)\n",
    "\n",
    "combinations <- expand.grid(max_iterations,linOuts)\n",
    "\n",
    "rbf_results <- data.frame( MaxIt=combinations[,1],linOut=combinations[,2],Time=0,Accuracy=0,F1=0,TPR=0,FPR=0)\n",
    "\n",
    "for(row in 1:nrow(combinations)){\n",
    "    for(i in 1:K){\n",
    "        test_indexes <- which(folds==i,arr.ind=TRUE)\n",
    "\n",
    "        X_test <- X.data[test_indexes,features]\n",
    "        Y_test <- Y.data[test_indexes]\n",
    "        X_training <- X.data[-test_indexes,features]\n",
    "        Y_training<- Y.data[-test_indexes]\n",
    "\n",
    "        params <- combinations[row,]\n",
    "        \n",
    "        start <- proc.time()[[\"elapsed\"]]\n",
    "        model <- rbf(X_training,Y_training, maxit=params[[1]],linOut=params[[2]])\n",
    "        Y_hat <- predict(model,X_test)\n",
    "        rbf_results[i,3] <- rbf_results[i,3] + proc.time()[[\"elapsed\"]] - start\n",
    "\n",
    "        Y_hat <- ifelse(Y_hat >=0.5,1,0)\n",
    "\n",
    "        rbf_results[row,-c(1:3)] <- rbf_results[row,-c(1:3)] + evaluate_classification(Y_hat, Y_test) \n",
    "    }\n",
    "    \n",
    "    rbf_results[row,-c(1:3)] <- round(rbf_results[row,-c(1:3)]/K,digits=4)\n",
    "}"
   ]
  },
  {
   "cell_type": "code",
   "execution_count": 72,
   "metadata": {
    "scrolled": false
   },
   "outputs": [
    {
     "data": {
      "text/html": [
       "<table>\n",
       "<caption>A data.frame: 14 × 7</caption>\n",
       "<thead>\n",
       "\t<tr><th scope=col>MaxIt</th><th scope=col>linOut</th><th scope=col>Time</th><th scope=col>Accuracy</th><th scope=col>F1</th><th scope=col>TPR</th><th scope=col>FPR</th></tr>\n",
       "\t<tr><th scope=col>&lt;dbl&gt;</th><th scope=col>&lt;dbl&gt;</th><th scope=col>&lt;dbl&gt;</th><th scope=col>&lt;dbl&gt;</th><th scope=col>&lt;dbl&gt;</th><th scope=col>&lt;dbl&gt;</th><th scope=col>&lt;dbl&gt;</th></tr>\n",
       "</thead>\n",
       "<tbody>\n",
       "\t<tr><td> 10</td><td>0</td><td>30.38</td><td>    NA</td><td>    NA</td><td>    NA</td><td>0.4977</td></tr>\n",
       "\t<tr><td> 20</td><td>0</td><td>30.22</td><td>    NA</td><td>    NA</td><td>    NA</td><td>0.3698</td></tr>\n",
       "\t<tr><td> 40</td><td>0</td><td>30.10</td><td>0.5810</td><td>0.5297</td><td>0.6056</td><td>0.3819</td></tr>\n",
       "\t<tr><td> 60</td><td>0</td><td>30.33</td><td>0.5791</td><td>0.5197</td><td>0.6061</td><td>0.3853</td></tr>\n",
       "\t<tr><td> 80</td><td>0</td><td>29.94</td><td>0.5790</td><td>0.5196</td><td>0.6062</td><td>0.3853</td></tr>\n",
       "\t<tr><td>100</td><td>0</td><td>30.06</td><td>0.5795</td><td>0.5207</td><td>0.6065</td><td>0.3848</td></tr>\n",
       "\t<tr><td>150</td><td>0</td><td>30.14</td><td>0.5803</td><td>0.5232</td><td>0.6070</td><td>0.3839</td></tr>\n",
       "\t<tr><td> 10</td><td>1</td><td>29.87</td><td>0.5927</td><td>0.5781</td><td>0.5982</td><td>0.3925</td></tr>\n",
       "\t<tr><td> 20</td><td>1</td><td>30.36</td><td>0.5927</td><td>0.5780</td><td>0.5983</td><td>0.3949</td></tr>\n",
       "\t<tr><td> 40</td><td>1</td><td>29.85</td><td>0.5934</td><td>0.5792</td><td>0.5991</td><td>0.3941</td></tr>\n",
       "\t<tr><td> 60</td><td>1</td><td> 0.00</td><td>0.5944</td><td>0.5804</td><td>0.5999</td><td>0.3906</td></tr>\n",
       "\t<tr><td> 80</td><td>1</td><td> 0.00</td><td>0.5950</td><td>0.5814</td><td>0.6005</td><td>0.3913</td></tr>\n",
       "\t<tr><td>100</td><td>1</td><td> 0.00</td><td>0.5937</td><td>0.5798</td><td>0.5990</td><td>0.3926</td></tr>\n",
       "\t<tr><td>150</td><td>1</td><td> 0.00</td><td>0.5945</td><td>0.5814</td><td>0.5994</td><td>0.3902</td></tr>\n",
       "</tbody>\n",
       "</table>\n"
      ],
      "text/latex": [
       "A data.frame: 14 × 7\n",
       "\\begin{tabular}{r|lllllll}\n",
       " MaxIt & linOut & Time & Accuracy & F1 & TPR & FPR\\\\\n",
       " <dbl> & <dbl> & <dbl> & <dbl> & <dbl> & <dbl> & <dbl>\\\\\n",
       "\\hline\n",
       "\t  10 & 0 & 30.38 &     NA &     NA &     NA & 0.4977\\\\\n",
       "\t  20 & 0 & 30.22 &     NA &     NA &     NA & 0.3698\\\\\n",
       "\t  40 & 0 & 30.10 & 0.5810 & 0.5297 & 0.6056 & 0.3819\\\\\n",
       "\t  60 & 0 & 30.33 & 0.5791 & 0.5197 & 0.6061 & 0.3853\\\\\n",
       "\t  80 & 0 & 29.94 & 0.5790 & 0.5196 & 0.6062 & 0.3853\\\\\n",
       "\t 100 & 0 & 30.06 & 0.5795 & 0.5207 & 0.6065 & 0.3848\\\\\n",
       "\t 150 & 0 & 30.14 & 0.5803 & 0.5232 & 0.6070 & 0.3839\\\\\n",
       "\t  10 & 1 & 29.87 & 0.5927 & 0.5781 & 0.5982 & 0.3925\\\\\n",
       "\t  20 & 1 & 30.36 & 0.5927 & 0.5780 & 0.5983 & 0.3949\\\\\n",
       "\t  40 & 1 & 29.85 & 0.5934 & 0.5792 & 0.5991 & 0.3941\\\\\n",
       "\t  60 & 1 &  0.00 & 0.5944 & 0.5804 & 0.5999 & 0.3906\\\\\n",
       "\t  80 & 1 &  0.00 & 0.5950 & 0.5814 & 0.6005 & 0.3913\\\\\n",
       "\t 100 & 1 &  0.00 & 0.5937 & 0.5798 & 0.5990 & 0.3926\\\\\n",
       "\t 150 & 1 &  0.00 & 0.5945 & 0.5814 & 0.5994 & 0.3902\\\\\n",
       "\\end{tabular}\n"
      ],
      "text/markdown": [
       "\n",
       "A data.frame: 14 × 7\n",
       "\n",
       "| MaxIt &lt;dbl&gt; | linOut &lt;dbl&gt; | Time &lt;dbl&gt; | Accuracy &lt;dbl&gt; | F1 &lt;dbl&gt; | TPR &lt;dbl&gt; | FPR &lt;dbl&gt; |\n",
       "|---|---|---|---|---|---|---|\n",
       "|  10 | 0 | 30.38 |     NA |     NA |     NA | 0.4977 |\n",
       "|  20 | 0 | 30.22 |     NA |     NA |     NA | 0.3698 |\n",
       "|  40 | 0 | 30.10 | 0.5810 | 0.5297 | 0.6056 | 0.3819 |\n",
       "|  60 | 0 | 30.33 | 0.5791 | 0.5197 | 0.6061 | 0.3853 |\n",
       "|  80 | 0 | 29.94 | 0.5790 | 0.5196 | 0.6062 | 0.3853 |\n",
       "| 100 | 0 | 30.06 | 0.5795 | 0.5207 | 0.6065 | 0.3848 |\n",
       "| 150 | 0 | 30.14 | 0.5803 | 0.5232 | 0.6070 | 0.3839 |\n",
       "|  10 | 1 | 29.87 | 0.5927 | 0.5781 | 0.5982 | 0.3925 |\n",
       "|  20 | 1 | 30.36 | 0.5927 | 0.5780 | 0.5983 | 0.3949 |\n",
       "|  40 | 1 | 29.85 | 0.5934 | 0.5792 | 0.5991 | 0.3941 |\n",
       "|  60 | 1 |  0.00 | 0.5944 | 0.5804 | 0.5999 | 0.3906 |\n",
       "|  80 | 1 |  0.00 | 0.5950 | 0.5814 | 0.6005 | 0.3913 |\n",
       "| 100 | 1 |  0.00 | 0.5937 | 0.5798 | 0.5990 | 0.3926 |\n",
       "| 150 | 1 |  0.00 | 0.5945 | 0.5814 | 0.5994 | 0.3902 |\n",
       "\n"
      ],
      "text/plain": [
       "   MaxIt linOut Time  Accuracy F1     TPR    FPR   \n",
       "1   10   0      30.38     NA       NA     NA 0.4977\n",
       "2   20   0      30.22     NA       NA     NA 0.3698\n",
       "3   40   0      30.10 0.5810   0.5297 0.6056 0.3819\n",
       "4   60   0      30.33 0.5791   0.5197 0.6061 0.3853\n",
       "5   80   0      29.94 0.5790   0.5196 0.6062 0.3853\n",
       "6  100   0      30.06 0.5795   0.5207 0.6065 0.3848\n",
       "7  150   0      30.14 0.5803   0.5232 0.6070 0.3839\n",
       "8   10   1      29.87 0.5927   0.5781 0.5982 0.3925\n",
       "9   20   1      30.36 0.5927   0.5780 0.5983 0.3949\n",
       "10  40   1      29.85 0.5934   0.5792 0.5991 0.3941\n",
       "11  60   1       0.00 0.5944   0.5804 0.5999 0.3906\n",
       "12  80   1       0.00 0.5950   0.5814 0.6005 0.3913\n",
       "13 100   1       0.00 0.5937   0.5798 0.5990 0.3926\n",
       "14 150   1       0.00 0.5945   0.5814 0.5994 0.3902"
      ]
     },
     "metadata": {},
     "output_type": "display_data"
    },
    {
     "name": "stdout",
     "output_type": "stream",
     "text": [
      "Best maxit and linout :"
     ]
    },
    {
     "data": {
      "text/html": [
       "<table>\n",
       "<caption>A data.frame: 1 × 7</caption>\n",
       "<thead>\n",
       "\t<tr><th></th><th scope=col>MaxIt</th><th scope=col>linOut</th><th scope=col>Time</th><th scope=col>Accuracy</th><th scope=col>F1</th><th scope=col>TPR</th><th scope=col>FPR</th></tr>\n",
       "\t<tr><th></th><th scope=col>&lt;dbl&gt;</th><th scope=col>&lt;dbl&gt;</th><th scope=col>&lt;dbl&gt;</th><th scope=col>&lt;dbl&gt;</th><th scope=col>&lt;dbl&gt;</th><th scope=col>&lt;dbl&gt;</th><th scope=col>&lt;dbl&gt;</th></tr>\n",
       "</thead>\n",
       "<tbody>\n",
       "\t<tr><th scope=row>12</th><td>80</td><td>1</td><td>0</td><td>0.595</td><td>0.5814</td><td>0.6005</td><td>0.3913</td></tr>\n",
       "</tbody>\n",
       "</table>\n"
      ],
      "text/latex": [
       "A data.frame: 1 × 7\n",
       "\\begin{tabular}{r|lllllll}\n",
       "  & MaxIt & linOut & Time & Accuracy & F1 & TPR & FPR\\\\\n",
       "  & <dbl> & <dbl> & <dbl> & <dbl> & <dbl> & <dbl> & <dbl>\\\\\n",
       "\\hline\n",
       "\t12 & 80 & 1 & 0 & 0.595 & 0.5814 & 0.6005 & 0.3913\\\\\n",
       "\\end{tabular}\n"
      ],
      "text/markdown": [
       "\n",
       "A data.frame: 1 × 7\n",
       "\n",
       "| <!--/--> | MaxIt &lt;dbl&gt; | linOut &lt;dbl&gt; | Time &lt;dbl&gt; | Accuracy &lt;dbl&gt; | F1 &lt;dbl&gt; | TPR &lt;dbl&gt; | FPR &lt;dbl&gt; |\n",
       "|---|---|---|---|---|---|---|---|\n",
       "| 12 | 80 | 1 | 0 | 0.595 | 0.5814 | 0.6005 | 0.3913 |\n",
       "\n"
      ],
      "text/plain": [
       "   MaxIt linOut Time Accuracy F1     TPR    FPR   \n",
       "12 80    1      0    0.595    0.5814 0.6005 0.3913"
      ]
     },
     "metadata": {},
     "output_type": "display_data"
    }
   ],
   "source": [
    "rbf_results\n",
    "cat(\"Best maxit and linout :\")\n",
    "rbf_results <- rbf_results[which.max(rbf_results$Accuracy),]\n",
    "rbf_results"
   ]
  },
  {
   "cell_type": "markdown",
   "metadata": {},
   "source": [
    "As we can see, using Radial Basis Function is not that good since we have an accuracy of 59,4% with the best parameters which is less than the previous models."
   ]
  },
  {
   "cell_type": "markdown",
   "metadata": {},
   "source": [
    "### Comparaison\n",
    "\n",
    "We have now tuned all the models that could be tuned and evaluated them all. We will plot all the results in a unique graph so that it can be easier to interpret the results."
   ]
  },
  {
   "cell_type": "code",
   "execution_count": 73,
   "metadata": {},
   "outputs": [
    {
     "data": {
      "image/png": "[encoded data removed]",
      "text/plain": [
       "Plot with title \"Models Performance\""
      ]
     },
     "metadata": {},
     "output_type": "display_data"
    }
   ],
   "source": [
    "models <- c(\"LM\", \"SVM\", \"KNN\",\"DT\",\"RF\",\"NN\",\"RBF\")\n",
    "colors <- c(\"red\",\"blue\")\n",
    "\n",
    "# Basic plot\n",
    "x <- c(1:length(models))\n",
    "acc <- c(lm_results[\"Accuracy\"],svm_results[\"Accuracy\"],lazy_results[\"Accuracy\"],tree_results[\"Accuracy\"],\n",
    "       rf_results[\"Accuracy\"],nnet_results[\"Accuracy\"],rbf_results[\"Accuracy\"])\n",
    "\n",
    "f1 <- c(lm_results[\"F1\"],svm_results[\"F1\"],lazy_results[\"F1\"],tree_results[\"F1\"],\n",
    "       rf_results[\"F1\"],nnet_results[\"F1\"],rbf_results[\"F1\"])\n",
    "\n",
    "plot(x, acc, col=colors[1], type=\"o\", ylim=c(0.5,0.7),main=\"Models Performance\", \n",
    "ylab=\"Percentage\", xlab=\"Models\",axes = FALSE)\n",
    "lines(x,f1,col=colors[2], type=\"o\") \n",
    "legend(\"topright\", legend=c(\"Accuracy\",\"F1 score\"),inset=c(0,0), col=colors, lty=1, cex=0.8, title=\"Metrics\")\n",
    "axis(1, at=seq(from = 1, to = length(models), by = 1), labels=models)\n",
    "axis(2, at=seq(from = 0.5, to = 0.7, by = 0.05), las=1)\n",
    "abline(h=seq(from = 0, to = 1, by = 0.05), v=1:length(models), col=\"gray\", lty=3)"
   ]
  },
  {
   "cell_type": "markdown",
   "metadata": {},
   "source": [
    "In this plot we are comparing the accuracy and the F1 score of the 7 learning models. We can see that the F1 score is always near to the accuracy score except for the decision tree.\n",
    "\n",
    "The best models are the linear regression, the random forests and the neural network. The Random forest is the best one, it has the best accuracy score and F1 score, this means that it has a good ratio of precision and recall. The best three models will be chosen to make a combination and hopefully improve accuracy.\n",
    "\n",
    "One know metric for evaluation binary classification is the ROC curve which evaluates the performance of the classifier at various thresholds. The AUC (Area Under the Curve) is the total area under the ROC curve, it can tell how much good a classifier is at detecting TP and TN. The higher is the AUC, the better is the model at distinguishing classes. We will compute it for all tuned models and see which results do we get."
   ]
  },
  {
   "cell_type": "code",
   "execution_count": 10,
   "metadata": {},
   "outputs": [],
   "source": [
    "# computes true positive rate\n",
    "compute_tpr <- function(predicted_values, correct_values) {\n",
    "    confusion_matrix <- table(predicted_values, correct_values)\n",
    "    \n",
    "    if(dim(confusion_matrix)[1]==1){\n",
    "        if(predicted_values[1] == 0){\n",
    "            return(0)\n",
    "        }\n",
    "        else{\n",
    "            return (1)\n",
    "        }\n",
    "    }\n",
    "    else{\n",
    "        tp <- confusion_matrix['1','1']\n",
    "        fn <- confusion_matrix['0','1']\n",
    "        return (tp / (tp + fn))\n",
    "    }\n",
    "}\n",
    "\n",
    "# computes false positive rate\n",
    "compute_fpr <- function(predicted_values, correct_values) {\n",
    "    \n",
    "    confusion_matrix <- table(predicted_values,correct_values)\n",
    "    if(dim(confusion_matrix)[1]==1){\n",
    "        if(predicted_values[1] == 0){\n",
    "            return(0)\n",
    "        }\n",
    "        else{\n",
    "            return(1)\n",
    "        }\n",
    "    }\n",
    "    else{\n",
    "        tn <- confusion_matrix['0','0']\n",
    "        fp <- confusion_matrix['1','0']\n",
    "        return (fp / (fp + tn))\n",
    "    }\n",
    "}\n",
    "\n",
    "# computes the ROC curves\n",
    "compute_rocs <- function(Y_hats, Y_tests) {\n",
    "    threshold = seq(-0.1,1.1,0.1)\n",
    "    \n",
    "    tprs_folds = matrix(0,length(Y_hats),length(threshold))\n",
    "    fprs_folds = matrix(0,length(Y_hats),length(threshold))\n",
    "    \n",
    "    mean_roc_x = list()\n",
    "    mean_roc_y = list()\n",
    "\n",
    "    for(p in 1:length(Y_hats)){\n",
    "        tprs = rep(0,length(threshold))\n",
    "        fprs = rep(0,length(threshold))\n",
    "        for(i in 1:length(threshold)){\n",
    "            Y_hat1 <- ifelse((Y_hats[[p]]) >= threshold[i],1,0) \n",
    "            tpr = compute_tpr(Y_hat1, Y_tests[[p]])\n",
    "            fpr = compute_fpr(Y_hat1, Y_tests[[p]])\n",
    "            tprs[i] = tpr\n",
    "            fprs[i] = fpr\n",
    "        }\n",
    "        tprs_folds[p,] = tprs\n",
    "        fprs_folds[p,] = fprs\n",
    "    }\n",
    "    \n",
    "    for(i in 1:length(threshold)){\n",
    "        mean_roc_x[[i]] = mean(tprs_folds[,i])\n",
    "        mean_roc_y[[i]] = mean(fprs_folds[,i])\n",
    "    }\n",
    "    \n",
    "    tpr_fpr =list(\"tpr\" = mean_roc_x, \"fpr\" = mean_roc_y)\n",
    "    \n",
    "    return(tpr_fpr)\n",
    "}"
   ]
  },
  {
   "cell_type": "code",
   "execution_count": 8,
   "metadata": {},
   "outputs": [],
   "source": [
    "predictions1 = list()\n",
    "predictions2 = list()\n",
    "predictions3 = list()\n",
    "predictions4 = list()\n",
    "predictions5 = list()\n",
    "predictions6 = list()\n",
    "predictions7 = list()\n",
    "\n",
    "Y_tests = list()\n",
    "\n",
    "for(i in 1:5){\n",
    "    test_indexes <- which(folds==i,arr.ind=TRUE)\n",
    "    \n",
    "    X_test <- X.data[test_indexes,]\n",
    "    Y_test <- Y.data[test_indexes]\n",
    "    \n",
    "    Y_tests[[i]] = Y_test    # we need it after for computing the roc curve\n",
    "    \n",
    "    X_training <- X.data[-test_indexes,]\n",
    "    Y_training <- Y.data[-test_indexes]\n",
    "    # train the models\n",
    "    model1 <- lm(target~., data=cbind(X_training,target=Y_training))\n",
    "    model2 <- svm(target~., data=cbind(X_training,target=Y_training))\n",
    "    model3 <- nnet(target~., data=cbind(X_training,target=Y_training), trace=F,size=2,maxit=50,rang=0.1)\n",
    "    model4 <- randomForest(X_training, Y_training, ntree=500)\n",
    "    model5 <- lazy(target~., cbind(X_training,target=Y_training))\n",
    "    model6 <- rbf(X_training,Y_training, maxit=80,linOut=1)\n",
    "    model7 <- rpart(target~., cbind(X_training,target=Y_training))\n",
    "    # make predictions\n",
    "    predictions1[[i]] <- predict(model1,X_test)\n",
    "    predictions2[[i]] <- predict(model2,X_test)\n",
    "    predictions3[[i]] <- predict(model3,X_test)\n",
    "    predictions4[[i]] <- predict(model4,X_test)\n",
    "    predictions5[[i]] <- unlist(predict(model5,X_test))\n",
    "    predictions6[[i]] <- predict(model6,X_test)\n",
    "    predictions7[[i]] <- predict(model7,X_test)\n",
    "}"
   ]
  },
  {
   "cell_type": "code",
   "execution_count": 33,
   "metadata": {},
   "outputs": [
    {
     "data": {
      "text/html": [],
      "text/latex": [],
      "text/markdown": [],
      "text/plain": [
       "integer(0)"
      ]
     },
     "metadata": {},
     "output_type": "display_data"
    },
    {
     "data": {
      "image/png": "[encoded data removed]",
      "text/plain": [
       "plot without title"
      ]
     },
     "metadata": {},
     "output_type": "display_data"
    }
   ],
   "source": [
    "roc1 = compute_rocs(predictions1, Y_tests)\n",
    "roc2 = compute_rocs(predictions2, Y_tests)\n",
    "roc3 = compute_rocs(predictions3, Y_tests)\n",
    "roc4 = compute_rocs(predictions4, Y_tests)\n",
    "roc5 = compute_rocs(predictions5, Y_tests)\n",
    "roc6 = compute_rocs(predictions6, Y_tests)\n",
    "roc7 = compute_rocs(predictions7, Y_tests)\n",
    "\n",
    "colors <- c(\"red\", \"blue\", \"green\", \"orange\",\"black\",\"bisque3\",\"brown\")\n",
    "\n",
    "plot(c(0,1),c(0,1), type='l', xlab=\"False positive rate\",ylab=\"True positive rate\", col=20,axes = FALSE)+ grid (45,20, lty = 2, col = \"cornsilk2\")\n",
    "lines(roc1$fpr, roc1$tpr,type = 'l', col=colors[1])\n",
    "lines(roc2$fpr, roc2$tpr,type = 'l', col=colors[2])\n",
    "lines(roc3$fpr, roc3$tpr,type = 'l', col=colors[3])\n",
    "lines(roc4$fpr, roc4$tpr,type = 'l', col=colors[4])\n",
    "lines(roc5$fpr, roc5$tpr,type = 'l', col=colors[5])\n",
    "lines(roc6$fpr, roc6$tpr,type = 'l', col=colors[6])\n",
    "lines(roc7$fpr, roc7$tpr,type = 'l', col=colors[7])\n",
    "names_model = c('LM','SVM','NN','RF','KNN',\"RBF\",\"DT\")\n",
    "legend(\"topleft\", legend = names_model, col=colors,  lty=1, cex=0.8, title=\"Models\")\n",
    "axis(1, at=seq(from = 0, to = 1, by = 0.1))\n",
    "axis(2, at=seq(from = 0, to = 1, by = 0.1), las=1)"
   ]
  },
  {
   "cell_type": "code",
   "execution_count": 22,
   "metadata": {},
   "outputs": [
    {
     "data": {
      "text/html": [
       "<table>\n",
       "<caption>A matrix: 1 × 7 of type dbl</caption>\n",
       "<thead>\n",
       "\t<tr><th></th><th scope=col>LM</th><th scope=col>SVM</th><th scope=col>NN</th><th scope=col>RF</th><th scope=col>KNN</th><th scope=col>RBF</th><th scope=col>DT</th></tr>\n",
       "</thead>\n",
       "<tbody>\n",
       "\t<tr><th scope=row>AUC</th><td>0.6500528</td><td>0.642416</td><td>0.6576154</td><td>0.6707313</td><td>0.57574</td><td>0.5841465</td><td>0.6038247</td></tr>\n",
       "</tbody>\n",
       "</table>\n"
      ],
      "text/latex": [
       "A matrix: 1 × 7 of type dbl\n",
       "\\begin{tabular}{r|lllllll}\n",
       "  & LM & SVM & NN & RF & KNN & RBF & DT\\\\\n",
       "\\hline\n",
       "\tAUC & 0.6500528 & 0.642416 & 0.6576154 & 0.6707313 & 0.57574 & 0.5841465 & 0.6038247\\\\\n",
       "\\end{tabular}\n"
      ],
      "text/markdown": [
       "\n",
       "A matrix: 1 × 7 of type dbl\n",
       "\n",
       "| <!--/--> | LM | SVM | NN | RF | KNN | RBF | DT |\n",
       "|---|---|---|---|---|---|---|---|\n",
       "| AUC | 0.6500528 | 0.642416 | 0.6576154 | 0.6707313 | 0.57574 | 0.5841465 | 0.6038247 |\n",
       "\n"
      ],
      "text/plain": [
       "    LM        SVM      NN        RF        KNN     RBF       DT       \n",
       "AUC 0.6500528 0.642416 0.6576154 0.6707313 0.57574 0.5841465 0.6038247"
      ]
     },
     "metadata": {},
     "output_type": "display_data"
    }
   ],
   "source": [
    "aucs <- c(AUC(unlist(roc1$fpr),unlist(roc1$tpr)),AUC(unlist(roc2$fpr),unlist(roc2$tpr)),AUC(unlist(roc3$fpr), unlist(roc3$tpr)),\n",
    "         AUC(unlist(roc4$fpr), unlist(roc4$tpr)),AUC(unlist(roc5$fpr), unlist(roc5$tpr)),AUC(unlist(roc6$fpr), unlist(roc6$tpr)),\n",
    "         AUC(unlist(roc7$fpr), unlist(roc7$tpr)))\n",
    "\n",
    "AUC_matrix = matrix( aucs, nrow=1, ncol=length(aucs))\n",
    "dimnames(AUC_matrix) = list(c(\"AUC\"), c('LM','SVM','NN','RF','KNN',\"RBF\",\"DT\"))\n",
    "AUC_matrix"
   ]
  },
  {
   "cell_type": "markdown",
   "metadata": {},
   "source": [
    "The diagonal means that the classifier is as bad as it can be, it's not better than doing randomly the classification. The AUC is 0.5 in this case. the more the curve is far from the diagonal the better is the classifier at distinguishing between the positive and the negative class.\n",
    "\n",
    "As expected, because of the F1 score and accuracy, the best model, according to the ROC curves, is the Random Forest, it's the model that has the biggest AUC 0.67"
   ]
  },
  {
   "cell_type": "markdown",
   "metadata": {},
   "source": [
    "## Combination of models strategy\n",
    "\n",
    "For this part of the project we need to find a strategy that combines the models in order to improve the predictive performance. The objective is reducing the variance and the bias by combining weak learners to make a strong one. There are many method that we can use, we chose three techniques : **Bagging** (Bootstrap  Aggregating), **Staking** and **Boosting** (Ada boost algorithm). "
   ]
  },
  {
   "cell_type": "code",
   "execution_count": 24,
   "metadata": {},
   "outputs": [],
   "source": [
    "# FS features\n",
    "features <-FS_selected_features[1:25]\n",
    "# NN parameters\n",
    "size <- 2\n",
    "maxIt <- 50\n",
    "rang <- 0.5\n",
    "# RF parameters\n",
    "ntrees <- 500"
   ]
  },
  {
   "cell_type": "markdown",
   "metadata": {},
   "source": [
    "### Bootstrapping Aggregating\n",
    "\n",
    "This method consist of taking randomly from the training set (of size N) N samples with remplacement. This kind of sample is known as bootstrap sample. Each model will learn on its bootstrap sample and make predictions. Then, the final predicted value is determined by a voting process. We will use linera model, neural network and random forest which correspond to our best models."
   ]
  },
  {
   "cell_type": "code",
   "execution_count": 27,
   "metadata": {},
   "outputs": [],
   "source": [
    "# given the predictions of the different models, the predicted value is determined by voting\n",
    "vote <- function(predictions) {\n",
    "  uniq_predictions <- unique(na.omit(predictions))\n",
    "  uniq_predictions[which.max(tabulate(match(predictions, uniq_predictions)))]\n",
    "}\n",
    "\n",
    "# bagging\n",
    "bagging <- function(training_data, test_data){\n",
    "\n",
    "    predictions <- data.frame(init=rep(0,nrow(test_data)))\n",
    "    \n",
    "    lm_bootstrap_samples <- training_data[sample(nrow(training_data), replace=TRUE), ]\n",
    "    rf_bootstrap_samples <- training_data[sample(nrow(training_data), replace=TRUE), ]\n",
    "    nnet_bootstrap_samples <- training_data[sample(nrow(training_data), replace=TRUE), ]\n",
    "\n",
    "    # 3 bootstrap samples, one for each model\n",
    "    lm_X_training <- lm_bootstrap_samples[,-ncol(lm_bootstrap_samples)]\n",
    "    lm_Y_training <- lm_bootstrap_samples[,\"target\"]\n",
    "\n",
    "    rf_X_training <- rf_bootstrap_samples[,-ncol(rf_bootstrap_samples)]\n",
    "    rf_Y_training <- rf_bootstrap_samples[,\"target\"]\n",
    "\n",
    "    nnet_X_training <- nnet_bootstrap_samples[,-ncol(nnet_bootstrap_samples)]\n",
    "    nnet_Y_training <- nnet_bootstrap_samples[,\"target\"]\n",
    "    \n",
    "    # train with linear model\n",
    "    lm_model <- lm(target~., cbind(lm_X_training[,features,drop=F],target=lm_Y_training))\n",
    "    lm_Y_hat <- predict(lm_model,test_data)\n",
    "    lm_Y_hat <- ifelse(lm_Y_hat >=0.5,1,0)\n",
    "\n",
    "    predictions <- cbind(predictions,lm_Y_hat)\n",
    "\n",
    "    # train with random forest\n",
    "    rf_model <- randomForest(rf_X_training[,features], rf_Y_training, ntree=ntrees)\n",
    "    rf_Y_hat <- predict(rf_model,test_data)\n",
    "    rf_Y_hat <- ifelse(rf_Y_hat >=0.5,1,0)\n",
    "\n",
    "    predictions <- cbind(predictions,rf_Y_hat)\n",
    "\n",
    "    # train with neural network\n",
    "    nnet_model <- nnet(target~., data=cbind(nnet_X_training[,features,drop=F],target=nnet_Y_training), trace=F,size=size,maxit=maxIt,rang=rang)\n",
    "    nnet_Y_hat <- predict(nnet_model,test_data)\n",
    "    nnet_Y_hat <- ifelse(nnet_Y_hat >=0.5,1,0)\n",
    "\n",
    "    predictions <- cbind(predictions,nnet_Y_hat)\n",
    "    predictions <- predictions[,-1]\n",
    "\n",
    "    predictions <- cbind(lm_Y_hat,rf_Y_hat,nnet_Y_hat)\n",
    "\n",
    "    final_predictions <- apply(predictions, 1, vote)\n",
    "    final_predictions\n",
    "}"
   ]
  },
  {
   "cell_type": "markdown",
   "metadata": {},
   "source": [
    "Now that we have implemented the vote function and the bagging algorithm, we will use 10-fold cross validation in order to have an estimate of the accuracy of this strategy."
   ]
  },
  {
   "cell_type": "code",
   "execution_count": null,
   "metadata": {},
   "outputs": [],
   "source": [
    "samples <- cbind(X.data,target=Y.data)\n",
    "accuracies <- rep(0,K)\n",
    "\n",
    "for(i in 1:K){\n",
    "    test_indexes <- which(folds==i,arr.ind=TRUE)\n",
    "\n",
    "    training_samples <- samples[-test_indexes,]\n",
    "    test_samples <- samples[test_indexes,]\n",
    "    options(warn=-1)\n",
    "    predictions <- bagging(training_samples, test_samples[,-ncol(test_samples)])\n",
    "    \n",
    "    accuracies[i] <- accuracies[i] + evaluate_classification(predictions,test_samples[,\"target\"])[1]\n",
    "}"
   ]
  },
  {
   "cell_type": "code",
   "execution_count": 38,
   "metadata": {},
   "outputs": [
    {
     "name": "stdout",
     "output_type": "stream",
     "text": [
      "Bagging accuracy :  0.6464908"
     ]
    }
   ],
   "source": [
    "cat(\"Bagging accuracy : \", mean(accuracies))"
   ]
  },
  {
   "cell_type": "markdown",
   "metadata": {},
   "source": [
    "We can see that there is an improvement of 0.0026 compared to the best result we had (random forest)."
   ]
  },
  {
   "cell_type": "markdown",
   "metadata": {},
   "source": [
    "### Stacking\n",
    "\n",
    "Stacking uses a similar idea to k-folds cross validation to create out-of-sample predictions. Basically, there are different models which train on the training data and make predictions. Then, all these predictions of the different models (called base models) are given as features to the meta model. The latter, trains on this predictions. The meta model will be biased towards the best of the base models."
   ]
  },
  {
   "cell_type": "code",
   "execution_count": null,
   "metadata": {},
   "outputs": [],
   "source": [
    "##################TRAINING##################\n",
    "lm_predictions <- c()\n",
    "nnet_predictions <- c()\n",
    "svm_predictions <- c()\n",
    "\n",
    "# create set of features composed by the predictions of the different base models\n",
    "for(i in 1:K) {\n",
    "  test_indexes <- which(folds==i,arr.ind=TRUE)\n",
    "\n",
    "  X_test <- X.data[test_indexes,features]\n",
    "  Y_test <- Y.data[test_indexes]\n",
    "  X_training <- X.data[-test_indexes,features]\n",
    "  Y_training<- Y.data[-test_indexes]\n",
    "  \n",
    "  # train and test with linear model\n",
    "  lm_model <- lm(target~., cbind(X_training,target=Y_training))\n",
    "  lm_Y_hat <- predict(lm_model,X_test)\n",
    "  lm_Y_hat <- ifelse(lm_Y_hat >=0.5,1,0)\n",
    "  \n",
    "  # train and test with neural network\n",
    "  nnet_model <- nnet(target~., data=cbind(X_training,target=Y_training), trace=F,size=size,maxit=maxIt,rang=rang)\n",
    "  nnet_Y_hat <- predict(nnet_model,X_test)\n",
    "  nnet_Y_hat <- ifelse(nnet_Y_hat >=0.5,1,0)\n",
    "\n",
    "  # train and test with svm\n",
    "  svm_model <- svm(target~.,data=cbind(X_training,target=Y_training), kernel=kernel)\n",
    "  svm_Y_hat <- predict(svm_model,X_test)\n",
    "  svm_Y_hat <- ifelse(svm_Y_hat >=0.5,1,0)\n",
    "\n",
    "  lm_predictions <- c(lm_predictions,lm_Y_hat)\n",
    "  nnet_predictions <- c(nnet_predictions,nnet_Y_hat)\n",
    "  svm_predictions <- c(svm_predictions,svm_Y_hat)\n",
    "}\n",
    "\n",
    "learning_data <- data.frame(a=lm_predictions,b=nnet_predictions,c=svm_predictions)\n",
    "\n",
    "# train meta model random forest\n",
    "rf_model <- randomForest(cbind(X.data[,features],learning_data), Y.data, ntree=ntrees)"
   ]
  },
  {
   "cell_type": "markdown",
   "metadata": {},
   "source": [
    "### Adaboost\n",
    "\n",
    "The idea of boosting is to make a strong classifier from a number of weak classifiers. The data set is weighted and, at each learning step, missclassified points have their weight increased and good calssified points have their weights decreased."
   ]
  },
  {
   "cell_type": "code",
   "execution_count": null,
   "metadata": {},
   "outputs": [],
   "source": [
    "n_models <- 10\n",
    "\n",
    "X_training <- X.data[,features,drop=F]\n",
    "## Shifting the labels\n",
    "Y_training <- ifelse(Y.data == 1, 1, -1)\n",
    "\n",
    "sample_weights <- rep(1/nrow(X_training),nrow(X_training))\n",
    "classifier_weights <- rep(0,n_models)\n",
    "\n",
    "for(i in 1:n_models){\n",
    "\n",
    "    samples <- sample(1:nrow(X_training),replace=TRUE,prob=sample_weights)\n",
    "\n",
    "    # fit the classifier to the training data obtained by resampling X_training using weights\n",
    "    lm_model <- nnet(target~., data=cbind(X_training[samples,,drop=F],target=Y_training), trace=F,size=size,maxit=maxIt,rang=rang)\n",
    "    lm_Y_hat <- predict(lm_model,X_training[samples,,drop=F])\n",
    "    lm_Y_hat <- ifelse(lm_Y_hat >=0.5,1,-1)\n",
    "    \n",
    "    predictions_weight <- data.frame(yhat=lm_Y_hat,y=Y_training[samples],weight=sample_weights[samples])\n",
    "    \n",
    "    # compute misclassification error on the training set\n",
    "    #misclassification_error <- sum(predictions_weight[predictions_weight$yhat != predictions_weight$y,][3])/sum(sample_weights)\n",
    "    misclassification_error <- sum(sample_weights*(lm_Y_hat != Y_training))/sum(sample_weights)\n",
    "    \n",
    "    # compute classifier weight\n",
    "    classifier_weight <- log((1-misclassification_error)/misclassification_error)\n",
    "    classifier_weights[i] <- classifier_weight\n",
    "\n",
    "    # weights update\n",
    "    sample_weights <- sample_weights*exp(classifier_weight*(lm_Y_hat != Y_training))\n",
    "    message(classifier_weight)\n",
    "    \n",
    "    # normalization\n",
    "    sample_weights <- sample_weights / mean(sample_weights)\n",
    "}"
   ]
  },
  {
   "cell_type": "markdown",
   "metadata": {},
   "source": [
    "To som up, the best strategy that we had is the bagging method which we used it in order to submit to the kaggle competition."
   ]
  },
  {
   "cell_type": "markdown",
   "metadata": {},
   "source": [
    "## Conclusion"
   ]
  },
  {
   "cell_type": "markdown",
   "metadata": {},
   "source": [
    "We saw how the features selection stage is important for the learning process. The model performance, in terms of speed and accuracy can be increased a lot if the good features are selected. We compared many methods of feature selection and the one that gave us the best results was the Forward Selection. We would have liked to test those feature selection methods with differents learning models, the results would have been maybe different. \n",
    "\n",
    "After the feature selection, we needed to select a learning model. We executed many of them, always with a 10-fold cross validation to have a good estimation of the performances of the models.\n",
    "The highest F1 score and the highest accuracy, with a cv, is given by the Random Forest with 500 trees and the top 25 features selected with the Forward Selection method.\n",
    "\n",
    "We tried Adaboost and Staking but without any sucess. We could not find a strategy that combines the models and gives us a better score than the score we had with bagging. Finally the best result is given by the pair **Forward Selection** as a feature selection method, **Random Forest**, **Linear Model**, **Neural Network** as the learning methods and **Bagging** as the strategy."
   ]
  }
 ],
 "metadata": {
  "kernelspec": {
   "display_name": "R",
   "language": "R",
   "name": "ir"
  },
  "language_info": {
   "codemirror_mode": "r",
   "file_extension": ".r",
   "mimetype": "text/x-r-source",
   "name": "R",
   "pygments_lexer": "r",
   "version": "3.6.0"
  },
  "widgets": {
   "application/vnd.jupyter.widget-state+json": {
    "state": {},
    "version_major": 2,
    "version_minor": 0
   }
  }
 },
 "nbformat": 4,
 "nbformat_minor": 2
}
